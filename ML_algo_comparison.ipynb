{
 "cells": [
  {
   "cell_type": "code",
   "execution_count": 1,
   "id": "united-appointment",
   "metadata": {},
   "outputs": [],
   "source": [
    "import pandas as pd\n",
    "import numpy as np\n",
    "import pickle as pk\n",
    "import os\n",
    "import glob\n",
    "import zlib\n",
    "\n",
    "# manually specify the GPUs to use\n",
    "#os.environ[\"CUDA_DEVICE_ORDER\"]=\"PCI_BUS_ID\"\n",
    "#os.environ[\"CUDA_VISIBLE_DEVICES\"]=\"4\"\n",
    "\n",
    "#from stellargraph import StellarGraph\n",
    "from scipy.spatial.distance import pdist, squareform\n",
    "from sklearn.metrics import confusion_matrix\n",
    "\n",
    "from sklearn.model_selection import cross_val_score\n",
    "from sklearn.model_selection import KFold\n"
   ]
  },
  {
   "cell_type": "code",
   "execution_count": 2,
   "id": "after-alberta",
   "metadata": {},
   "outputs": [],
   "source": [
    "# from PDG to label\n",
    "def pdg2tos(pdg):\n",
    "    if pdg==13 or pdg==-13 or pdg==211 or pdg==-211:\n",
    "        return 0 # track\n",
    "    if pdg==2212 or pdg==321 or pdg==-321:\n",
    "        return 1 # heavy track\n",
    "    if pdg==11 or pdg==-11 or pdg==22:\n",
    "        return 2 # shower\n",
    "    return -1"
   ]
  },
  {
   "cell_type": "code",
   "execution_count": null,
   "id": "shaped-terminology",
   "metadata": {},
   "outputs": [],
   "source": [
    "## Data generation \n",
    "\n",
    "## SKIP THIS if you don't have the pickle files already processed\n",
    "\n",
    "graph=0\n",
    "total_nodes = 0\n",
    "maxDist = 10.0\n",
    "pdgs = []\n",
    "labels = []\n",
    "\n",
    "\n",
    "\n",
    "numGraphs = len(list(glob.iglob('/eos/user/a/aabedabu/physics_gnn/physics_processed_data_collection/prod4/grid_8000/mc_sce_dd/*/*.gz')))\n",
    "for graph_path in glob.iglob('/eos/user/a/aabedabu/physics_gnn/physics_processed_data_collection/prod4/grid_8000/mc_sce_dd/*/*.gz'):\n",
    "    if graph % 100 == 0:\n",
    "        print(str(graph) + \" out of \" + str(numGraphs))\n",
    "    with open(graph_path[:-3]+'.info', 'rb') as info_file:\n",
    "        lines = info_file.readlines()\n",
    "        values = {'X':float(lines[0]),\n",
    "                  'Y':float(lines[1]),\n",
    "                  'Z':float(lines[2]),\n",
    "                  'Energy':float(lines[3]),\n",
    "                  'Interaction':int(lines[4]),\n",
    "                  'PDG':int(lines[5]),\n",
    "                  'NumberOfNodes':int(lines[6]),\n",
    "                  'NumberOfFeatures':int(lines[7])\n",
    "                  }\n",
    "        #print(values)\n",
    "        \n",
    "    nnodes = values['NumberOfNodes']\n",
    "    \n",
    "    # spatial coordinates\n",
    "    XYZ=np.zeros(shape=(nnodes,3),dtype=float)\n",
    "    \n",
    "    # create feature dict on the first iteration\n",
    "    if graph == 0:\n",
    "        features = {}\n",
    "        for j in range(3,3+values['NumberOfFeatures']):\n",
    "            features['feature'+str(j-2)] = []\n",
    "    \n",
    "    # all nodes are usable by deafault\n",
    "    usable = [True]*nnodes\n",
    "        \n",
    "    # iterate over nodes and save spatial coordinates\n",
    "    with open(graph_path, 'rb') as graph_file:\n",
    "        codes = np.fromstring(zlib.decompress(graph_file.read()), dtype=np.float32, sep='')\n",
    "        for node_id in range(nnodes):\n",
    "            label = pdg2tos(codes[node_id*(3+values['NumberOfFeatures']+1)+(3+values['NumberOfFeatures'])])\n",
    "            if label == -1:\n",
    "                usable[node_id] = False\n",
    "                continue\n",
    "            \n",
    "            # coordinates\n",
    "            X = codes[node_id*(3+values['NumberOfFeatures']+1)+0]\n",
    "            Y = codes[node_id*(3+values['NumberOfFeatures']+1)+1]\n",
    "            Z = codes[node_id*(3+values['NumberOfFeatures']+1)+2]\n",
    "            XYZ[node_id,:]=[X, Y, Z]\n",
    "            \n",
    "    # iterate over nodes\n",
    "    count=0\n",
    "    with open(graph_path, 'rb') as graph_file:\n",
    "        codes = np.fromstring(zlib.decompress(graph_file.read()), dtype=np.float32, sep='')\n",
    "        for node_id in range(nnodes):\n",
    "            if not usable[node_id]:\n",
    "                continue\n",
    "            \n",
    "            # features\n",
    "            for j in range(3,3+values['NumberOfFeatures']):\n",
    "                features['feature'+str(j-2)].append(codes[node_id*(3+values['NumberOfFeatures']+1)+j])\n",
    "                \n",
    "            # PDG:\n",
    "            pdgs.append(int(codes[node_id*(3+values['NumberOfFeatures']+1)+(3+values['NumberOfFeatures'])]))\n",
    "            labels.append(label)\n",
    "            \n",
    "            #print(features, pdgs, labels)\n",
    "               \n",
    "    \n",
    "    graph+=1\n",
    "        \n",
    "# pdgs and labels to np.array\n",
    "pdgs = np.array(pdgs)\n",
    "labels = np.array(labels)\n",
    "\n",
    "\n",
    "    \n",
    "# define nodes\n",
    "nodes = pd.DataFrame(\n",
    "    features\n",
    ")\n",
    "\n",
    "# dump dataset\n",
    "\n",
    "## Dump everything\n",
    "with open('dataset_nodes_pdgs_labels.p', 'wb') as fd:\n",
    "    pk.dump([graph, pdgs, labels], fd)\n",
    "\n",
    "## Dump only features    \n",
    "pd.to_pickle(nodes, \"./features.pkl\")\n",
    "\n"
   ]
  },
  {
   "cell_type": "code",
   "execution_count": 3,
   "id": "alert-thermal",
   "metadata": {},
   "outputs": [],
   "source": [
    "## Data input\n",
    "\n",
    "# load graph\n",
    "with open('dataset_nodes_pdgs_labels.p', 'rb') as fd:\n",
    "    graph, pdgs, labels = pk.load(fd)\n",
    "\n",
    "    \n",
    "labels=pd.Series(labels)\n",
    "nodes = pd.read_pickle(\"./features.pkl\")\n",
    "\n",
    "\n",
    "    "
   ]
  },
  {
   "cell_type": "code",
   "execution_count": 4,
   "id": "blond-router",
   "metadata": {},
   "outputs": [
    {
     "name": "stdout",
     "output_type": "stream",
     "text": [
      "Total number of events:  7030533\n",
      "Total number of tracks:  2315092\n",
      "Total number of showers:  4715441\n",
      "Ratio of tracks:  0.32929110780078835\n",
      "Ratio of showers:  0.6707088921992116\n"
     ]
    }
   ],
   "source": [
    "## Create new labels\n",
    "\n",
    "# Old labels        \n",
    "# 0 = track\n",
    "# 1 = heavy track\n",
    "# 2 = shower\n",
    "        \n",
    "# New labels        \n",
    "# 0 = track\n",
    "# 1 = shower\n",
    "\n",
    "track_number = 0\n",
    "shower_number = 0\n",
    "new_labels_list = []\n",
    "for x in labels:\n",
    "    if x<2:\n",
    "        new_labels_list.append(0)\n",
    "        track_number += 1\n",
    "    else:\n",
    "        new_labels_list.append(1)\n",
    "        shower_number += 1\n",
    "\n",
    "new_labels = pd.Series(new_labels_list) \n",
    "print(\"Total number of events: \", track_number+shower_number)\n",
    "print(\"Total number of tracks: \", track_number)\n",
    "print(\"Total number of showers: \", shower_number)\n",
    "print(\"Ratio of tracks: \", track_number/(track_number+shower_number))\n",
    "print(\"Ratio of showers: \", shower_number/(track_number+shower_number))"
   ]
  },
  {
   "cell_type": "code",
   "execution_count": 5,
   "id": "democratic-remains",
   "metadata": {},
   "outputs": [
    {
     "name": "stdout",
     "output_type": "stream",
     "text": [
      "   feature1  feature2  feature3   feature4  feature5  feature6  feature7  \\\n",
      "0      17.0      53.0     128.0  12.028289  0.048538  0.249053    1270.0   \n",
      "1      18.0      54.0     128.0  32.379967 -0.017928  2.538584    1329.0   \n",
      "2      19.0      54.0     128.0  39.963924 -0.009562  2.760196    1398.0   \n",
      "3      19.0      54.0     128.0  29.785406 -0.011091  2.890076    1408.0   \n",
      "4      20.0      54.0     128.0  69.445038 -0.019203  3.075611    1486.0   \n",
      "\n",
      "   feature8  feature9  \n",
      "0    4378.0   12097.0  \n",
      "1    4439.0   12077.0  \n",
      "2    4432.0   12070.0  \n",
      "3    4442.0   12080.0  \n",
      "4    4402.0   12040.0  \n"
     ]
    }
   ],
   "source": [
    "## Look at the features\n",
    "\n",
    "print(nodes.head())"
   ]
  },
  {
   "cell_type": "code",
   "execution_count": 6,
   "id": "appreciated-boost",
   "metadata": {},
   "outputs": [
    {
     "data": {
      "text/html": [
       "<div>\n",
       "<style scoped>\n",
       "    .dataframe tbody tr th:only-of-type {\n",
       "        vertical-align: middle;\n",
       "    }\n",
       "\n",
       "    .dataframe tbody tr th {\n",
       "        vertical-align: top;\n",
       "    }\n",
       "\n",
       "    .dataframe thead th {\n",
       "        text-align: right;\n",
       "    }\n",
       "</style>\n",
       "<table border=\"1\" class=\"dataframe\">\n",
       "  <thead>\n",
       "    <tr style=\"text-align: right;\">\n",
       "      <th></th>\n",
       "      <th>neighbour_3</th>\n",
       "      <th>neighbour_10</th>\n",
       "      <th>neighbour_30</th>\n",
       "      <th>charge_map</th>\n",
       "      <th>dot_product</th>\n",
       "      <th>angle</th>\n",
       "      <th>charge_distance_3</th>\n",
       "      <th>charge_distance_10</th>\n",
       "      <th>charge_distance_30</th>\n",
       "    </tr>\n",
       "  </thead>\n",
       "  <tbody>\n",
       "    <tr>\n",
       "      <th>count</th>\n",
       "      <td>7.030533e+06</td>\n",
       "      <td>7.030533e+06</td>\n",
       "      <td>7.030533e+06</td>\n",
       "      <td>7.030533e+06</td>\n",
       "      <td>7.030533e+06</td>\n",
       "      <td>7.030533e+06</td>\n",
       "      <td>7.030533e+06</td>\n",
       "      <td>7.030533e+06</td>\n",
       "      <td>7.030533e+06</td>\n",
       "    </tr>\n",
       "    <tr>\n",
       "      <th>mean</th>\n",
       "      <td>2.497649e+01</td>\n",
       "      <td>1.113293e+02</td>\n",
       "      <td>3.483956e+02</td>\n",
       "      <td>5.705963e+01</td>\n",
       "      <td>1.804495e-01</td>\n",
       "      <td>1.490602e+00</td>\n",
       "      <td>1.454060e+03</td>\n",
       "      <td>6.613205e+03</td>\n",
       "      <td>2.013232e+04</td>\n",
       "    </tr>\n",
       "    <tr>\n",
       "      <th>std</th>\n",
       "      <td>1.076896e+01</td>\n",
       "      <td>5.971821e+01</td>\n",
       "      <td>1.779324e+02</td>\n",
       "      <td>5.215720e+01</td>\n",
       "      <td>1.969706e+01</td>\n",
       "      <td>1.217663e+00</td>\n",
       "      <td>1.110965e+03</td>\n",
       "      <td>4.996266e+03</td>\n",
       "      <td>1.293129e+04</td>\n",
       "    </tr>\n",
       "    <tr>\n",
       "      <th>min</th>\n",
       "      <td>0.000000e+00</td>\n",
       "      <td>0.000000e+00</td>\n",
       "      <td>0.000000e+00</td>\n",
       "      <td>5.439834e-03</td>\n",
       "      <td>-2.123361e+03</td>\n",
       "      <td>0.000000e+00</td>\n",
       "      <td>0.000000e+00</td>\n",
       "      <td>0.000000e+00</td>\n",
       "      <td>0.000000e+00</td>\n",
       "    </tr>\n",
       "    <tr>\n",
       "      <th>25%</th>\n",
       "      <td>1.800000e+01</td>\n",
       "      <td>7.200000e+01</td>\n",
       "      <td>2.240000e+02</td>\n",
       "      <td>2.959888e+01</td>\n",
       "      <td>-2.227991e-02</td>\n",
       "      <td>1.451090e-01</td>\n",
       "      <td>8.710000e+02</td>\n",
       "      <td>3.419000e+03</td>\n",
       "      <td>1.068500e+04</td>\n",
       "    </tr>\n",
       "    <tr>\n",
       "      <th>50%</th>\n",
       "      <td>2.700000e+01</td>\n",
       "      <td>1.000000e+02</td>\n",
       "      <td>3.080000e+02</td>\n",
       "      <td>4.082213e+01</td>\n",
       "      <td>2.128416e-04</td>\n",
       "      <td>1.484194e+00</td>\n",
       "      <td>1.129000e+03</td>\n",
       "      <td>4.317000e+03</td>\n",
       "      <td>1.452500e+04</td>\n",
       "    </tr>\n",
       "    <tr>\n",
       "      <th>75%</th>\n",
       "      <td>3.100000e+01</td>\n",
       "      <td>1.330000e+02</td>\n",
       "      <td>4.510000e+02</td>\n",
       "      <td>6.654980e+01</td>\n",
       "      <td>2.362917e-02</td>\n",
       "      <td>2.857099e+00</td>\n",
       "      <td>1.755000e+03</td>\n",
       "      <td>8.651000e+03</td>\n",
       "      <td>2.895200e+04</td>\n",
       "    </tr>\n",
       "    <tr>\n",
       "      <th>max</th>\n",
       "      <td>1.350000e+02</td>\n",
       "      <td>5.320000e+02</td>\n",
       "      <td>1.754000e+03</td>\n",
       "      <td>3.050392e+03</td>\n",
       "      <td>2.849225e+04</td>\n",
       "      <td>3.141593e+00</td>\n",
       "      <td>1.888800e+04</td>\n",
       "      <td>4.613800e+04</td>\n",
       "      <td>1.101830e+05</td>\n",
       "    </tr>\n",
       "  </tbody>\n",
       "</table>\n",
       "</div>"
      ],
      "text/plain": [
       "        neighbour_3  neighbour_10  neighbour_30    charge_map   dot_product  \\\n",
       "count  7.030533e+06  7.030533e+06  7.030533e+06  7.030533e+06  7.030533e+06   \n",
       "mean   2.497649e+01  1.113293e+02  3.483956e+02  5.705963e+01  1.804495e-01   \n",
       "std    1.076896e+01  5.971821e+01  1.779324e+02  5.215720e+01  1.969706e+01   \n",
       "min    0.000000e+00  0.000000e+00  0.000000e+00  5.439834e-03 -2.123361e+03   \n",
       "25%    1.800000e+01  7.200000e+01  2.240000e+02  2.959888e+01 -2.227991e-02   \n",
       "50%    2.700000e+01  1.000000e+02  3.080000e+02  4.082213e+01  2.128416e-04   \n",
       "75%    3.100000e+01  1.330000e+02  4.510000e+02  6.654980e+01  2.362917e-02   \n",
       "max    1.350000e+02  5.320000e+02  1.754000e+03  3.050392e+03  2.849225e+04   \n",
       "\n",
       "              angle  charge_distance_3  charge_distance_10  charge_distance_30  \n",
       "count  7.030533e+06       7.030533e+06        7.030533e+06        7.030533e+06  \n",
       "mean   1.490602e+00       1.454060e+03        6.613205e+03        2.013232e+04  \n",
       "std    1.217663e+00       1.110965e+03        4.996266e+03        1.293129e+04  \n",
       "min    0.000000e+00       0.000000e+00        0.000000e+00        0.000000e+00  \n",
       "25%    1.451090e-01       8.710000e+02        3.419000e+03        1.068500e+04  \n",
       "50%    1.484194e+00       1.129000e+03        4.317000e+03        1.452500e+04  \n",
       "75%    2.857099e+00       1.755000e+03        8.651000e+03        2.895200e+04  \n",
       "max    3.141593e+00       1.888800e+04        4.613800e+04        1.101830e+05  "
      ]
     },
     "execution_count": 6,
     "metadata": {},
     "output_type": "execute_result"
    }
   ],
   "source": [
    "## Features:\n",
    "\n",
    "# Feature1  neighbour_3\n",
    "# Feature2  neighbour_10\n",
    "# Feature3  neighbour_30\n",
    "# Feature4  charge_map\n",
    "# Feature5  dot_product\n",
    "# Feature6  angle\n",
    "# Feature7  charge_distance_3\n",
    "# Feature8  charge_distance_10\n",
    "# Feature9  charge_distance_30\n",
    "\n",
    "# Rename and describe the data frame\n",
    "nodes.columns = [\"neighbour_3\", \"neighbour_10\", \"neighbour_30\", \"charge_map\", \"dot_product\", \"angle\", \"charge_distance_3\", \"charge_distance_10\", \"charge_distance_30\"]\n",
    "\n",
    "nodes.describe()"
   ]
  },
  {
   "cell_type": "code",
   "execution_count": 8,
   "id": "shaped-impression",
   "metadata": {},
   "outputs": [
    {
     "data": {
      "image/png": "[encoded data removed]",
      "text/plain": [
       "<Figure size 648x648 with 9 Axes>"
      ]
     },
     "metadata": {
      "needs_background": "light"
     },
     "output_type": "display_data"
    }
   ],
   "source": [
    "import pylab as plt\n",
    "nodes.hist(bins=50, figsize=(9,9))\n",
    "plt.suptitle(\"Histogram for each input feature\")\n",
    "plt.savefig('plots/ML_analysis_features')\n",
    "plt.show()"
   ]
  },
  {
   "cell_type": "code",
   "execution_count": 9,
   "id": "quiet-munich",
   "metadata": {},
   "outputs": [],
   "source": [
    "## Split the data\n",
    "\n",
    "from sklearn.model_selection import train_test_split\n",
    "\n",
    "X = nodes\n",
    "y = new_labels\n",
    "\n",
    "#X_train, X_test, y_train, y_test = train_test_split(X, y, random_state=0, train_size=0.6, test_size=None, shuffle=False)\n",
    "\n"
   ]
  },
  {
   "cell_type": "code",
   "execution_count": 10,
   "id": "tender-difference",
   "metadata": {},
   "outputs": [],
   "source": [
    "## Preprocessing : scaling\n",
    "\n",
    "#from sklearn.preprocessing import MinMaxScaler\n",
    "from sklearn.preprocessing import RobustScaler\n",
    "\n",
    "#scaler = MinMaxScaler()\n",
    "scaler = RobustScaler()\n",
    "X = scaler.fit_transform(X)\n"
   ]
  },
  {
   "cell_type": "code",
   "execution_count": 11,
   "id": "brave-norman",
   "metadata": {},
   "outputs": [
    {
     "name": "stdout",
     "output_type": "stream",
     "text": [
      "Linear regression: Mean Accuracy = 65.95% - SD Accuracy = 1.36%\n"
     ]
    }
   ],
   "source": [
    "## Logistic regression\n",
    "from sklearn.linear_model import LogisticRegression\n",
    "\n",
    "kfold = KFold(n_splits=10, random_state=7)\n",
    "\n",
    "logreg = LogisticRegression(solver=\"liblinear\")\n",
    "\n",
    "result = cross_val_score(logreg, X, y, cv=kfold, scoring='accuracy')\n",
    "print(\"%s: Mean Accuracy = %.2f%% - SD Accuracy = %.2f%%\" % (\"Linear regression\", result.mean()*100, result.std()*100))"
   ]
  },
  {
   "cell_type": "code",
   "execution_count": 12,
   "id": "concrete-religion",
   "metadata": {},
   "outputs": [
    {
     "name": "stdout",
     "output_type": "stream",
     "text": [
      "Decision Tree: Mean Accuracy = 68.62% - SD Accuracy = 0.71%\n"
     ]
    }
   ],
   "source": [
    "## Decision tree\n",
    "\n",
    "from sklearn.tree import DecisionTreeClassifier\n",
    "\n",
    "clf = DecisionTreeClassifier(criterion=\"entropy\")\n",
    "\n",
    "kfold = KFold(n_splits=10, random_state=7)\n",
    "\n",
    "\n",
    "result = cross_val_score(clf, X, y, cv=kfold, scoring='accuracy')\n",
    "print(\"%s: Mean Accuracy = %.2f%% - SD Accuracy = %.2f%%\" % (\"Decision Tree\", result.mean()*100, result.std()*100))"
   ]
  },
  {
   "cell_type": "code",
   "execution_count": 13,
   "id": "pursuant-merchant",
   "metadata": {},
   "outputs": [
    {
     "name": "stdout",
     "output_type": "stream",
     "text": [
      "K Nearest Neighbor: Mean Accuracy = 71.45% - SD Accuracy = 0.89%\n"
     ]
    }
   ],
   "source": [
    "## K-Nearest Neighbors\n",
    "\n",
    "from sklearn.neighbors import KNeighborsClassifier\n",
    "\n",
    "knn = KNeighborsClassifier(n_neighbors=5, metric=\"minkowski\",p=2)\n",
    "\n",
    "\n",
    "kfold = KFold(n_splits=10, random_state=7)\n",
    "\n",
    "\n",
    "result = cross_val_score(knn, X, y, cv=kfold, scoring='accuracy')\n",
    "print(\"%s: Mean Accuracy = %.2f%% - SD Accuracy = %.2f%%\" % (\"K Nearest Neighbor\", result.mean()*100, result.std()*100))"
   ]
  },
  {
   "cell_type": "code",
   "execution_count": 14,
   "id": "academic-missouri",
   "metadata": {},
   "outputs": [
    {
     "name": "stdout",
     "output_type": "stream",
     "text": [
      "Linear Discriminant Analysis: Mean Accuracy = 65.87% - SD Accuracy = 1.57%\n"
     ]
    }
   ],
   "source": [
    "## Linear Discriminant Analysis\n",
    "\n",
    "from sklearn.discriminant_analysis import LinearDiscriminantAnalysis\n",
    "\n",
    "lda = LinearDiscriminantAnalysis()\n",
    "\n",
    "\n",
    "\n",
    "kfold = KFold(n_splits=10, random_state=7)\n",
    "\n",
    "\n",
    "result = cross_val_score(lda, X, y, cv=kfold, scoring='accuracy')\n",
    "print(\"%s: Mean Accuracy = %.2f%% - SD Accuracy = %.2f%%\" % (\"Linear Discriminant Analysis\", result.mean()*100, result.std()*100))"
   ]
  },
  {
   "cell_type": "code",
   "execution_count": 15,
   "id": "internal-vacuum",
   "metadata": {},
   "outputs": [
    {
     "name": "stdout",
     "output_type": "stream",
     "text": [
      "Gaussian Naive Bayes: Mean Accuracy = 63.78% - SD Accuracy = 1.58%\n"
     ]
    }
   ],
   "source": [
    "## Gaussian Naive Bayes\n",
    "\n",
    "from sklearn.naive_bayes import GaussianNB\n",
    "\n",
    "gnb = GaussianNB()\n",
    "\n",
    "\n",
    "kfold = KFold(n_splits=10, random_state=7)\n",
    "\n",
    "\n",
    "result = cross_val_score(gnb, X, y, cv=kfold, scoring='accuracy')\n",
    "print(\"%s: Mean Accuracy = %.2f%% - SD Accuracy = %.2f%%\" % (\"Gaussian Naive Bayes\", result.mean()*100, result.std()*100))"
   ]
  },
  {
   "cell_type": "code",
   "execution_count": 16,
   "id": "ancient-youth",
   "metadata": {},
   "outputs": [
    {
     "name": "stdout",
     "output_type": "stream",
     "text": [
      "Random Forest: Mean Accuracy = 72.90% - SD Accuracy = 1.01%\n"
     ]
    }
   ],
   "source": [
    "## Random Forest\n",
    "\n",
    "from sklearn.ensemble import RandomForestClassifier\n",
    "\n",
    "\n",
    "random_forest_clf = RandomForestClassifier(n_estimators=100, criterion=\"entropy\")\n",
    "\n",
    "\n",
    "kfold = KFold(n_splits=10, random_state=7)\n",
    "\n",
    "\n",
    "result = cross_val_score(random_forest_clf, X, y, cv=kfold, scoring='accuracy')\n",
    "print(\"%s: Mean Accuracy = %.2f%% - SD Accuracy = %.2f%%\" % (\"Random Forest\", result.mean()*100, result.std()*100))"
   ]
  },
  {
   "cell_type": "code",
   "execution_count": null,
   "id": "handed-jefferson",
   "metadata": {},
   "outputs": [],
   "source": [
    "## SVC\n",
    "\n",
    "from sklearn.ensemble import RandomForestClassifier\n",
    "\n",
    "\n",
    "random_forest_clf = RandomForestClassifier(n_estimators=100, criterion=\"entropy\")\n",
    "\n",
    "\n",
    "kfold = KFold(n_splits=10, random_state=7)\n",
    "\n",
    "\n",
    "result = cross_val_score(random_forest_clf, X, y, cv=kfold, scoring='accuracy')\n",
    "print(\"%s: Mean Accuracy = %.2f%% - SD Accuracy = %.2f%%\" % (\"Random Forest\", result.mean()*100, result.std()*100))"
   ]
  },
  {
   "cell_type": "code",
   "execution_count": null,
   "id": "innocent-tucson",
   "metadata": {},
   "outputs": [],
   "source": []
  },
  {
   "cell_type": "code",
   "execution_count": null,
   "id": "agricultural-bullet",
   "metadata": {},
   "outputs": [],
   "source": []
  }
 ],
 "metadata": {
  "kernelspec": {
   "display_name": "Python 3 (ipykernel)",
   "language": "python",
   "name": "python3"
  },
  "language_info": {
   "codemirror_mode": {
    "name": "ipython",
    "version": 3
   },
   "file_extension": ".py",
   "mimetype": "text/x-python",
   "name": "python",
   "nbconvert_exporter": "python",
   "pygments_lexer": "ipython3",
   "version": "3.8.2"
  }
 },
 "nbformat": 4,
 "nbformat_minor": 5
}
