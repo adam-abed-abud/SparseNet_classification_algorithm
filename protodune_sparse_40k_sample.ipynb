{
 "cells": [
  {
   "cell_type": "code",
   "execution_count": 1,
   "metadata": {},
   "outputs": [
    {
     "name": "stderr",
     "output_type": "stream",
     "text": [
      "/usr/local/lib64/python3.6/site-packages/MinkowskiEngine-0.5.2-py3.6-linux-x86_64.egg/MinkowskiEngine/__init__.py:42: UserWarning: The environment variable `OMP_NUM_THREADS` not set. MinkowskiEngine will automatically set `OMP_NUM_THREADS=16`. If you want to set `OMP_NUM_THREADS` manually, please export it on the command line before running a python script. e.g. `export OMP_NUM_THREADS=12; python your_program.py`. It is recommended to set it below 24.\n",
      "  \"It is recommended to set it below 24.\",\n",
      "/usr/local/lib64/python3.6/site-packages/MinkowskiEngine-0.5.2-py3.6-linux-x86_64.egg/MinkowskiEngine/__init__.py:224: UserWarning: The MinkowskiEngine was compiled with CPU_ONLY flag. If you want to compile with CUDA support, make sure `torch.cuda.is_available()` is True when you install MinkowskiEngine.\n",
      "  \"If you want to compile with CUDA support, make sure `torch.cuda.is_available()` is True when you install MinkowskiEngine.\",\n"
     ]
    }
   ],
   "source": [
    "import pandas as pd\n",
    "import numpy as np\n",
    "import pickle as pk\n",
    "import os\n",
    "import matplotlib.pyplot as plt\n",
    "from mpl_toolkits.mplot3d import Axes3D\n",
    "import zlib\n",
    "\n",
    "# manually specify the GPUs to use\n",
    "#os.environ[\"CUDA_DEVICE_ORDER\"]=\"PCI_BUS_ID\"\n",
    "#os.environ[\"CUDA_VISIBLE_DEVICES\"]=\"0\"\n",
    "\n",
    "import torch\n",
    "import math\n",
    "import random\n",
    "import MinkowskiEngine as ME\n",
    "from torch.utils.data import Dataset, DataLoader\n",
    "from glob import glob\n",
    "from glob import iglob\n",
    "import os.path as osp, h5py, tqdm\n",
    "import utils\n",
    "from Core import utils\n",
    "from Core.trainers import Trainer\n",
    "\n",
    "# System\n",
    "import time\n",
    "# Externals\n",
    "import torch.nn as nn\n",
    "import torch.optim as optim\n",
    "from torch.utils.tensorboard import SummaryWriter\n",
    "import tqdm, psutil\n",
    "from scipy.special import softmax\n",
    "from sklearn.metrics import classification_report, confusion_matrix, explained_variance_score"
   ]
  },
  {
   "cell_type": "code",
   "execution_count": 2,
   "metadata": {},
   "outputs": [],
   "source": [
    "# from PDG to label\n",
    "def pdg2tos(pdg):\n",
    "    if pdg==13 or pdg==-13 or pdg==211 or pdg==-211:\n",
    "        return 0 # track\n",
    "    if pdg==2212 or pdg==321 or pdg==-321:\n",
    "        return 0 # heavy track\n",
    "    if pdg==11 or pdg==-11 or pdg==22:\n",
    "        return 1 # shower\n",
    "    return -1"
   ]
  },
  {
   "cell_type": "code",
   "execution_count": 3,
   "metadata": {},
   "outputs": [
    {
     "name": "stdout",
     "output_type": "stream",
     "text": [
      "1 out of 40101\n"
     ]
    },
    {
     "name": "stderr",
     "output_type": "stream",
     "text": [
      "/usr/local/lib/python3.6/site-packages/ipykernel_launcher.py:40: DeprecationWarning: The binary mode of fromstring is deprecated, as it behaves surprisingly on unicode inputs. Use frombuffer instead\n"
     ]
    },
    {
     "name": "stdout",
     "output_type": "stream",
     "text": [
      "101 out of 40101\n",
      "201 out of 40101\n",
      "301 out of 40101\n",
      "401 out of 40101\n",
      "501 out of 40101\n",
      "601 out of 40101\n",
      "701 out of 40101\n",
      "801 out of 40101\n",
      "901 out of 40101\n",
      "1001 out of 40101\n",
      "1101 out of 40101\n",
      "1201 out of 40101\n",
      "1301 out of 40101\n",
      "1401 out of 40101\n",
      "1501 out of 40101\n",
      "1601 out of 40101\n",
      "1701 out of 40101\n",
      "1801 out of 40101\n",
      "1901 out of 40101\n",
      "2001 out of 40101\n",
      "2101 out of 40101\n",
      "2201 out of 40101\n",
      "2301 out of 40101\n",
      "2401 out of 40101\n",
      "2501 out of 40101\n",
      "2601 out of 40101\n",
      "2701 out of 40101\n",
      "2801 out of 40101\n",
      "2901 out of 40101\n",
      "3001 out of 40101\n",
      "3101 out of 40101\n",
      "3201 out of 40101\n",
      "3301 out of 40101\n",
      "3401 out of 40101\n",
      "3501 out of 40101\n",
      "3601 out of 40101\n",
      "3701 out of 40101\n",
      "3801 out of 40101\n",
      "3901 out of 40101\n",
      "4001 out of 40101\n",
      "4101 out of 40101\n",
      "4201 out of 40101\n",
      "4301 out of 40101\n",
      "4401 out of 40101\n",
      "4501 out of 40101\n",
      "4601 out of 40101\n",
      "4701 out of 40101\n",
      "4801 out of 40101\n",
      "4901 out of 40101\n",
      "5001 out of 40101\n",
      "5101 out of 40101\n",
      "5201 out of 40101\n",
      "5301 out of 40101\n",
      "5401 out of 40101\n",
      "5501 out of 40101\n",
      "5601 out of 40101\n",
      "5701 out of 40101\n",
      "5801 out of 40101\n",
      "5901 out of 40101\n",
      "6001 out of 40101\n",
      "6101 out of 40101\n",
      "6201 out of 40101\n",
      "6301 out of 40101\n",
      "6401 out of 40101\n",
      "6501 out of 40101\n",
      "6601 out of 40101\n",
      "6701 out of 40101\n",
      "6801 out of 40101\n",
      "6901 out of 40101\n",
      "7001 out of 40101\n",
      "7101 out of 40101\n",
      "7201 out of 40101\n",
      "7301 out of 40101\n",
      "7401 out of 40101\n",
      "7501 out of 40101\n",
      "7601 out of 40101\n",
      "7701 out of 40101\n",
      "7801 out of 40101\n",
      "7901 out of 40101\n",
      "8001 out of 40101\n",
      "8101 out of 40101\n",
      "8201 out of 40101\n",
      "8301 out of 40101\n",
      "8401 out of 40101\n",
      "8501 out of 40101\n",
      "8601 out of 40101\n",
      "8701 out of 40101\n",
      "8801 out of 40101\n",
      "8901 out of 40101\n",
      "9001 out of 40101\n",
      "9101 out of 40101\n",
      "9201 out of 40101\n",
      "9301 out of 40101\n",
      "9401 out of 40101\n",
      "9501 out of 40101\n",
      "9601 out of 40101\n",
      "9701 out of 40101\n",
      "9801 out of 40101\n",
      "9901 out of 40101\n",
      "10001 out of 40101\n",
      "10101 out of 40101\n",
      "10201 out of 40101\n",
      "10301 out of 40101\n",
      "10401 out of 40101\n",
      "10501 out of 40101\n",
      "10601 out of 40101\n",
      "10701 out of 40101\n",
      "10801 out of 40101\n",
      "10901 out of 40101\n",
      "11001 out of 40101\n",
      "11101 out of 40101\n",
      "11201 out of 40101\n",
      "11301 out of 40101\n",
      "11401 out of 40101\n",
      "11501 out of 40101\n",
      "11601 out of 40101\n",
      "11701 out of 40101\n",
      "11801 out of 40101\n",
      "11901 out of 40101\n",
      "12001 out of 40101\n",
      "12101 out of 40101\n",
      "12201 out of 40101\n",
      "12301 out of 40101\n",
      "12401 out of 40101\n",
      "12501 out of 40101\n",
      "12601 out of 40101\n",
      "12701 out of 40101\n",
      "12801 out of 40101\n",
      "12901 out of 40101\n",
      "13001 out of 40101\n",
      "13101 out of 40101\n",
      "13201 out of 40101\n",
      "13301 out of 40101\n",
      "13401 out of 40101\n",
      "13501 out of 40101\n",
      "13601 out of 40101\n",
      "13701 out of 40101\n",
      "13801 out of 40101\n",
      "13901 out of 40101\n",
      "14001 out of 40101\n",
      "14101 out of 40101\n",
      "14201 out of 40101\n",
      "14301 out of 40101\n",
      "14401 out of 40101\n",
      "14501 out of 40101\n",
      "14601 out of 40101\n",
      "14701 out of 40101\n",
      "14801 out of 40101\n",
      "14901 out of 40101\n",
      "15001 out of 40101\n",
      "15101 out of 40101\n",
      "15201 out of 40101\n",
      "15301 out of 40101\n",
      "15401 out of 40101\n",
      "15501 out of 40101\n",
      "15601 out of 40101\n",
      "15701 out of 40101\n",
      "15801 out of 40101\n",
      "15901 out of 40101\n",
      "16001 out of 40101\n",
      "16101 out of 40101\n",
      "16201 out of 40101\n",
      "16301 out of 40101\n",
      "16401 out of 40101\n",
      "16501 out of 40101\n",
      "16601 out of 40101\n",
      "16701 out of 40101\n",
      "16801 out of 40101\n",
      "16901 out of 40101\n",
      "17001 out of 40101\n",
      "17101 out of 40101\n",
      "17201 out of 40101\n",
      "17301 out of 40101\n",
      "17401 out of 40101\n",
      "17501 out of 40101\n",
      "17601 out of 40101\n",
      "17701 out of 40101\n",
      "17801 out of 40101\n",
      "17901 out of 40101\n",
      "18001 out of 40101\n",
      "18101 out of 40101\n",
      "18201 out of 40101\n",
      "18301 out of 40101\n",
      "18401 out of 40101\n",
      "18501 out of 40101\n",
      "18601 out of 40101\n",
      "18701 out of 40101\n",
      "18801 out of 40101\n",
      "18901 out of 40101\n",
      "19001 out of 40101\n",
      "19101 out of 40101\n",
      "19201 out of 40101\n",
      "19301 out of 40101\n",
      "19401 out of 40101\n",
      "19501 out of 40101\n",
      "19601 out of 40101\n",
      "19701 out of 40101\n",
      "19801 out of 40101\n",
      "19901 out of 40101\n",
      "20001 out of 40101\n",
      "20101 out of 40101\n",
      "20201 out of 40101\n",
      "20301 out of 40101\n",
      "20401 out of 40101\n",
      "20501 out of 40101\n",
      "20601 out of 40101\n",
      "20701 out of 40101\n",
      "20801 out of 40101\n",
      "20901 out of 40101\n",
      "21001 out of 40101\n",
      "21101 out of 40101\n",
      "21201 out of 40101\n",
      "21301 out of 40101\n",
      "21401 out of 40101\n",
      "21501 out of 40101\n",
      "21601 out of 40101\n",
      "21701 out of 40101\n",
      "21801 out of 40101\n",
      "21901 out of 40101\n",
      "22001 out of 40101\n",
      "22101 out of 40101\n",
      "22201 out of 40101\n",
      "22301 out of 40101\n",
      "22401 out of 40101\n",
      "22501 out of 40101\n",
      "22601 out of 40101\n",
      "22701 out of 40101\n",
      "22801 out of 40101\n",
      "22901 out of 40101\n",
      "23001 out of 40101\n",
      "23101 out of 40101\n",
      "23201 out of 40101\n",
      "23301 out of 40101\n",
      "23401 out of 40101\n",
      "23501 out of 40101\n",
      "23601 out of 40101\n",
      "23701 out of 40101\n",
      "23801 out of 40101\n",
      "23901 out of 40101\n",
      "24001 out of 40101\n",
      "24101 out of 40101\n",
      "24201 out of 40101\n",
      "24301 out of 40101\n",
      "24401 out of 40101\n",
      "24501 out of 40101\n",
      "24601 out of 40101\n",
      "24701 out of 40101\n",
      "24801 out of 40101\n",
      "24901 out of 40101\n",
      "25001 out of 40101\n",
      "25101 out of 40101\n",
      "25201 out of 40101\n",
      "25301 out of 40101\n",
      "25401 out of 40101\n",
      "25501 out of 40101\n",
      "25601 out of 40101\n",
      "25701 out of 40101\n",
      "25801 out of 40101\n",
      "25901 out of 40101\n",
      "26001 out of 40101\n",
      "26101 out of 40101\n",
      "26201 out of 40101\n",
      "26301 out of 40101\n",
      "26401 out of 40101\n",
      "26501 out of 40101\n",
      "26601 out of 40101\n",
      "26701 out of 40101\n",
      "26801 out of 40101\n",
      "26901 out of 40101\n",
      "27001 out of 40101\n",
      "27101 out of 40101\n",
      "27201 out of 40101\n",
      "27301 out of 40101\n",
      "27401 out of 40101\n",
      "27501 out of 40101\n",
      "27601 out of 40101\n",
      "27701 out of 40101\n",
      "27801 out of 40101\n",
      "27901 out of 40101\n",
      "28001 out of 40101\n",
      "28101 out of 40101\n",
      "28201 out of 40101\n",
      "28301 out of 40101\n",
      "28401 out of 40101\n",
      "28501 out of 40101\n",
      "28601 out of 40101\n",
      "28701 out of 40101\n",
      "28801 out of 40101\n",
      "28901 out of 40101\n",
      "29001 out of 40101\n",
      "29101 out of 40101\n",
      "29201 out of 40101\n",
      "29301 out of 40101\n",
      "29401 out of 40101\n",
      "29501 out of 40101\n",
      "29601 out of 40101\n",
      "29701 out of 40101\n",
      "29801 out of 40101\n",
      "29901 out of 40101\n",
      "30001 out of 40101\n",
      "30101 out of 40101\n",
      "30201 out of 40101\n",
      "30301 out of 40101\n",
      "30401 out of 40101\n",
      "30501 out of 40101\n",
      "30601 out of 40101\n",
      "30701 out of 40101\n",
      "30801 out of 40101\n",
      "30901 out of 40101\n",
      "31001 out of 40101\n",
      "31101 out of 40101\n",
      "31201 out of 40101\n",
      "31301 out of 40101\n",
      "31401 out of 40101\n",
      "31501 out of 40101\n",
      "31601 out of 40101\n",
      "31701 out of 40101\n",
      "31801 out of 40101\n",
      "31901 out of 40101\n",
      "32001 out of 40101\n",
      "32101 out of 40101\n",
      "32201 out of 40101\n",
      "32301 out of 40101\n",
      "32401 out of 40101\n",
      "32501 out of 40101\n",
      "32601 out of 40101\n",
      "32701 out of 40101\n",
      "32801 out of 40101\n",
      "32901 out of 40101\n",
      "33001 out of 40101\n",
      "33101 out of 40101\n",
      "33201 out of 40101\n",
      "33301 out of 40101\n",
      "33401 out of 40101\n",
      "33501 out of 40101\n",
      "33601 out of 40101\n",
      "33701 out of 40101\n",
      "33801 out of 40101\n",
      "33901 out of 40101\n",
      "34001 out of 40101\n",
      "34101 out of 40101\n",
      "34201 out of 40101\n",
      "34301 out of 40101\n",
      "34401 out of 40101\n",
      "34501 out of 40101\n",
      "34601 out of 40101\n",
      "34701 out of 40101\n",
      "34801 out of 40101\n",
      "34901 out of 40101\n",
      "35001 out of 40101\n",
      "35101 out of 40101\n",
      "35201 out of 40101\n",
      "35301 out of 40101\n",
      "35401 out of 40101\n",
      "35501 out of 40101\n",
      "35601 out of 40101\n",
      "35701 out of 40101\n",
      "35801 out of 40101\n",
      "35901 out of 40101\n",
      "36001 out of 40101\n",
      "36101 out of 40101\n",
      "36201 out of 40101\n",
      "36301 out of 40101\n",
      "36401 out of 40101\n",
      "36501 out of 40101\n",
      "36601 out of 40101\n",
      "36701 out of 40101\n",
      "36801 out of 40101\n",
      "36901 out of 40101\n",
      "37001 out of 40101\n",
      "37101 out of 40101\n",
      "37201 out of 40101\n",
      "37301 out of 40101\n",
      "37401 out of 40101\n",
      "37501 out of 40101\n",
      "37601 out of 40101\n",
      "37701 out of 40101\n",
      "37801 out of 40101\n",
      "37901 out of 40101\n",
      "38001 out of 40101\n",
      "38101 out of 40101\n",
      "38201 out of 40101\n",
      "38301 out of 40101\n",
      "38401 out of 40101\n",
      "38501 out of 40101\n",
      "38601 out of 40101\n",
      "38701 out of 40101\n",
      "38801 out of 40101\n",
      "38901 out of 40101\n",
      "39001 out of 40101\n",
      "39101 out of 40101\n",
      "39201 out of 40101\n",
      "39301 out of 40101\n",
      "39401 out of 40101\n",
      "39501 out of 40101\n",
      "39601 out of 40101\n",
      "39701 out of 40101\n",
      "39801 out of 40101\n",
      "39901 out of 40101\n",
      "40001 out of 40101\n",
      "40101 out of 40101\n"
     ]
    }
   ],
   "source": [
    "# generate events\n",
    "graph=0\n",
    "voxel_size=0.05 # cm\n",
    "numGraphs = len(list(iglob('/eos/home-a/aabedabu/physics_gnn/physics_processed_data_collection/Leigh_grid_data_40000/1GeV_?/mc_sce_dd/*/*.gz')))\n",
    "for graph_path in iglob('/eos/home-a/aabedabu/physics_gnn/physics_processed_data_collection/Leigh_grid_data_40000/1GeV_?/mc_sce_dd/*/*.gz'):\n",
    "#numGraphs = len(list(iglob('../../data_grid_leigh/9*/*.gz')))\n",
    "#for graph_path in iglob('../../data_grid_leigh/9*/*.gz'):\n",
    "    if graph % 100 == 0:\n",
    "      print(str(graph+1) + \" out of \" + str(numGraphs))\n",
    "    example = {}\n",
    "    with open(graph_path[:-3]+'.info', 'rb') as info_file:\n",
    "        lines = info_file.readlines()\n",
    "        values = {'X':float(lines[0]),\n",
    "                  'Y':float(lines[1]),\n",
    "                  'Z':float(lines[2]),\n",
    "                  'Energy':float(lines[3]),\n",
    "                  'Interaction':int(lines[4]),\n",
    "                  'PDG':int(lines[5]),\n",
    "                  'NumberOfNodes':int(lines[6]),\n",
    "                  'NumberOfFeatures':int(lines[7])\n",
    "                  }\n",
    "        #print(values)\n",
    "        \n",
    "    nnodes = values['NumberOfNodes']\n",
    "    nfeatures = values['NumberOfFeatures']\n",
    "    \n",
    "    # spatial coordinates\n",
    "    XYZ=np.zeros(shape=(nnodes,3),dtype=float)\n",
    "        \n",
    "    # all nodes are usable by deafault\n",
    "    usable = [True]*nnodes\n",
    "        \n",
    "    features = []\n",
    "    X = []\n",
    "    Y = []\n",
    "    Z = []\n",
    "    labels = []\n",
    "    # iterate over nodes and save spatial coordinates\n",
    "    with open(graph_path, 'rb') as graph_file:\n",
    "        codes = np.fromstring(zlib.decompress(graph_file.read()), dtype=np.float32, sep='')\n",
    "        for node_id in range(nnodes):\n",
    "            # label\n",
    "            label = pdg2tos(codes[node_id*(3+nfeatures+1)+(3+nfeatures)])\n",
    "            if label == -1:\n",
    "                continue\n",
    "                \n",
    "            # features\n",
    "            feature = []\n",
    "            for j in range(3,3+values['NumberOfFeatures']):\n",
    "                feature.append(codes[node_id*(3+values['NumberOfFeatures']+1)+j])\n",
    "            \n",
    "            x = codes[node_id*(3+nfeatures+1)+0]\n",
    "            y = codes[node_id*(3+nfeatures+1)+1]\n",
    "            z = codes[node_id*(3+nfeatures+1)+2]\n",
    "            \n",
    "            x = int(x/voxel_size)\n",
    "            y = int(y/voxel_size)\n",
    "            z = int(z/voxel_size)\n",
    "            xyz = np.dstack((X,Y,Z)).reshape(len(X),3)\n",
    "            if [x,y,z] in xyz:\n",
    "                continue\n",
    "            \n",
    "            # coordinates\n",
    "            X.append(x)\n",
    "            Y.append(y)\n",
    "            Z.append(z)\n",
    "            labels.append(label)\n",
    "            \n",
    "            ## Removing charge over distance feature\n",
    "            #del feature[-3:] #delete last three\n",
    "            \n",
    "            # get the charge\n",
    "            #del feature[0:3] \n",
    "            #del feature[1:6]\n",
    "            \n",
    "            # get the angle\n",
    "            #del feature[0:5]\n",
    "            #del feature[1:4]\n",
    "            \n",
    "            # Get only the charge over distance\n",
    "            del feature[0:6]\n",
    "            \n",
    "            features.append(feature)\n",
    "            \n",
    "    X = np.array(X)\n",
    "    Y = np.array(Y)\n",
    "    Z = np.array(Z)\n",
    "    coords=np.dstack((X,Y,Z)).reshape(X.shape[0],3)\n",
    "    features = np.array(features)\n",
    "    labels = np.array(labels).reshape(X.shape[0],1)\n",
    "    \n",
    "    example['x'] = features\n",
    "    example['c'] = coords\n",
    "    example['y'] = labels\n",
    "    \n",
    "    torch.save(example, 'sparse_data_protodune/event{}.pt'.format(graph))\n",
    "    graph+=1"
   ]
  },
  {
   "cell_type": "code",
   "execution_count": 4,
   "metadata": {},
   "outputs": [],
   "source": [
    "# collate function\n",
    "def collate_sparse_minkowski_saul(batch):\n",
    "    #coords, feats = ME.utils.sparse_collate([d['c'] for d in batch], [d['x'] for d in batch])\n",
    "    #coords = ME.utils.batched_coordinates([d['c'] for d in batch], dtype=torch.float32)#([d['c'].int() for d in batch])\n",
    "    voxel_size=1.0\n",
    "    coords = [(d['c']/voxel_size).int() for d in batch]\n",
    "    feats = torch.cat([d['x'] for d in batch])\n",
    "    y = torch.cat([d['y'] for d in batch])\n",
    "    ret = { 'f': feats, 'c': coords, 'y': y }\n",
    "    return ret"
   ]
  },
  {
   "cell_type": "code",
   "execution_count": 5,
   "metadata": {},
   "outputs": [],
   "source": [
    "# dataset\n",
    "class SparseEventProtoDUNE(Dataset):\n",
    "    def __init__(self, root, shuffle=True, **kwargs):\n",
    "        '''Initialiser for SparseEventProtoDUNE class'''\n",
    "        \n",
    "        self.root = root\n",
    "        self.data_files = self.processed_file_names\n",
    "        if shuffle:\n",
    "            random.shuffle(self.data_files) \n",
    "        self.total_events = len(self.data_files)\n",
    "        \n",
    "    @property\n",
    "    def raw_dir(self):\n",
    "        return f'{self.root}/raw'\n",
    "    \n",
    "    @property\n",
    "    def processed_dir(self):\n",
    "        return f'{self.root}'\n",
    "\n",
    "    @property\n",
    "    def raw_file_names(self):\n",
    "        ret = []\n",
    "        for subdir in glob(f'{self.raw_dir}/*'):\n",
    "            ret += glob(f'{subdir}/*.root')\n",
    "        return ret\n",
    "    \n",
    "    @property\n",
    "    def processed_file_names(self):\n",
    "        return glob(f'{self.processed_dir}/*.pt')\n",
    "    \n",
    "    def __len__(self):\n",
    "        return len(self.data_files)\n",
    "    \n",
    "    def __len__(self):\n",
    "        return self.total_events\n",
    "    \n",
    "    def __getitem__(self, idx):\n",
    "        data = torch.load(self.data_files[idx])\n",
    "        c = torch.FloatTensor(data['c'])\n",
    "        x = torch.FloatTensor(data['x'])\n",
    "        y = torch.LongTensor(data['y'])\n",
    "\n",
    "        del data\n",
    "        return { 'x': x, 'c': c, 'y': y}\n",
    "    \n",
    "    def vet_files(self):\n",
    "        for f in self.data_files:\n",
    "            _, ext = osp.splitext(f)\n",
    "            if ext != '.pt':\n",
    "                print('Extension not recognised! Skipping')\n",
    "                continue\n",
    "            try:\n",
    "                torch.load(f)\n",
    "            except:\n",
    "                print(f'File {f} is bad! Removing...')\n",
    "                os.remove(f)"
   ]
  },
  {
   "cell_type": "code",
   "execution_count": 6,
   "metadata": {},
   "outputs": [],
   "source": [
    "# generate dataset\n",
    "dataset=SparseEventProtoDUNE(\"sparse_data_protodune\")"
   ]
  },
  {
   "cell_type": "code",
   "execution_count": 7,
   "metadata": {},
   "outputs": [
    {
     "name": "stdout",
     "output_type": "stream",
     "text": [
      "Number of images train: 40101\n"
     ]
    }
   ],
   "source": [
    "number_images = len(dataset)\n",
    "first_image = dataset[0]\n",
    "print('Number of images train:', number_images)\n",
    "#print('First image train:', first_image)¡"
   ]
  },
  {
   "cell_type": "code",
   "execution_count": 8,
   "metadata": {},
   "outputs": [],
   "source": [
    "\"\"\"\n",
    "This module defines a generic trainer for simple models and datasets. \n",
    "\"\"\"\n",
    "\n",
    "# Locals\n",
    "from Core.models import get_model\n",
    "from Core.trainers.base import base\n",
    "from Core.loss import get_loss\n",
    "from Core.activation import get_activation\n",
    "from Core.optim import get_optim\n",
    "from Core.scheduler import get_scheduler\n",
    "from Core.metrics import get_metrics\n",
    "from Core.utils import *\n",
    "\n",
    "class Trainer(base):\n",
    "    \"\"\"Trainer code for basic classification problems with categorical cross entropy.\"\"\"\n",
    "\n",
    "    def __init__(self, train_name=\"test1\", summary_dir=\"summary\",\n",
    "        empty_cache = None, **kwargs):\n",
    "        super(Trainer, self).__init__(train_name=train_name, **kwargs)\n",
    "        self.writer = SummaryWriter(f\"{summary_dir}/{train_name}\")\n",
    "        self.empty_cache = empty_cache\n",
    "        \n",
    "    def arrange_sparse_minkowski(self, data):\n",
    "        return ME.SparseTensor(\n",
    "                           features=data['f'], \n",
    "                           coordinates=ME.utils.batched_coordinates(data['c'], dtype=torch.float32)#,\n",
    "                           #quantization_mode=ME.SparseTensorQuantizationMode.RANDOM_SUBSAMPLE, \n",
    "                           #device=self.device\n",
    "                           )\n",
    "    \n",
    "    def arrange_truth(self, data):\n",
    "        return data['y']\n",
    "\n",
    "    def build_model(self, optimizer_params=None, scheduler_params=None,\n",
    "        loss_params=None, metric_params=None, name=\"NodeConv\",\n",
    "        arrange_data=\"arrange_sparse_minkowski\", arrange_truth=\"arrange_sparse\",\n",
    "        **model_args):\n",
    "        \"\"\"Instantiate our model\"\"\"\n",
    "\n",
    "        self.train_name = name\n",
    "            \n",
    "        # Construct the model\n",
    "        #torch.cuda.set_device(self.device)\n",
    "        self.model = get_model(name=name, **model_args)\n",
    "        #self.model = self.model.to(self.device)        \n",
    "        \n",
    "        # Construct the loss function\n",
    "        #self.loss_func = get_loss(**loss_params)\n",
    "        self.loss_func = nn.CrossEntropyLoss()#get_loss(func=\"categorical_cross_entropy\")\n",
    "\n",
    "        # Construct the optimizer\n",
    "        #self.optimizer = get_optim(model_params=self.model.parameters(), **optimizer_params)\n",
    "        self.optimizer = optim.SGD(self.model.parameters(), lr=0.1, momentum=0.9, weight_decay=0.0001)\n",
    "        #self.scheduler = get_scheduler(self.optimizer, **scheduler_params)\n",
    "        self.scheduler = optim.lr_scheduler.CosineAnnealingLR(self.optimizer, T_max=3)\n",
    "        '''\n",
    "        scheduler_params = {\"ReduceLROnPlateau\":{\"factor\":0.9,\"patience\":0.3},\n",
    "                            \"StepLR\":{\"step_size\":5, \"gamma\":0.8}}\n",
    "        self.scheduler = get_scheduler(self.optimizer, \"ReduceLROnPlateau\")\n",
    "        '''\n",
    "        self.scheduler = None\n",
    "        \n",
    "        'Classification'\n",
    "        # Configure metrics\n",
    "        '''\n",
    "        metrics=metric_params[\"metrics\"]\n",
    "        metric_args = metric_params[metrics]\n",
    "        self.metrics = get_metrics(metrics)(**metric_args)\n",
    "        '''\n",
    "        #self.metrics = get_metrics(\"Classification\")([\"track\", \"heavy_track\", \"shower\"])\n",
    "        self.metrics = get_metrics(\"Classification\")([\"track\", \"shower\"])\n",
    "        #self.metrics = get_metrics(\"Classification\")([\"protons\", \"muons\"])\n",
    "        #self.batch_metrics = metric_params[\"include_batch_metrics\"]\n",
    "        self.batch_metrics = \"yes\"\n",
    "        \n",
    "        '''\n",
    "        # Select function to arrange data\n",
    "        self.arrange_data = get_arrange_data(arrange_data)\n",
    "        self.arrange_truth = get_arrange_truth(arrange_truth)\n",
    "        '''\n",
    "\n",
    "    def load_state_dict(self, state_dict, **kwargs):\n",
    "        \"\"\"Load state dict from trained model\"\"\"\n",
    "        self.model.load_state_dict(torch.load(state_dict, map_location=f\"cuda:{self.device}\")[\"model\"])\n",
    "\n",
    "    def train_epoch(self, data_loader, **kwargs):\n",
    "        \"\"\"Train for one epoch\"\"\"\n",
    "        self.model.train()\n",
    "        self.metrics.new_epoch()\n",
    "        summary = dict()\n",
    "        sum_loss = 0.\n",
    "        start_time = time.time()\n",
    "        # Loop over training batches\n",
    "        batch_size = data_loader.batch_size\n",
    "        n_batches = int(math.ceil(len(data_loader.dataset)/batch_size)) #if max_iters_train is None else max_iters_train\n",
    "        t = tqdm.tqdm(enumerate(data_loader),total=n_batches)\n",
    "        for i, data in t:\n",
    "            self.optimizer.zero_grad()\n",
    "            # Different input shapes for SparseConvNet vs MinkowskiEngine\n",
    "            batch_input = self.arrange_sparse_minkowski(data)\n",
    "            batch_output = self.model(batch_input)\n",
    "            batch_target = self.arrange_truth(data)#.to(self.device)\n",
    "            batch_target = torch.reshape(batch_target, (len(batch_target),))\n",
    "            \n",
    "            batch_loss = nn.functional.cross_entropy(batch_output.F, batch_target, reduction=\"mean\")\n",
    "            batch_loss.backward()\n",
    "\n",
    "            # Calculate accuracy\n",
    "            metrics = self.metrics.train_batch_metrics(batch_output.F, batch_target)\n",
    "            \n",
    "            self.optimizer.step()\n",
    "\n",
    "            sum_loss += batch_loss.item()\n",
    "            t.set_description(\"loss = %.5f\" % batch_loss.item() )\n",
    "            t.refresh() # to show immediately the update\n",
    "\n",
    "            # add to tensorboard summary\n",
    "            if self.batch_metrics:\n",
    "                metrics = self.metrics.train_batch_metrics(batch_output.F, batch_target)\n",
    "                if self.iteration%100 == 0:\n",
    "                    self.writer.add_scalar(\"loss/batch\", batch_loss.item(), self.iteration)\n",
    "                    for key, val in metrics.items(): self.writer.add_scalar(key, val, self.iteration)\n",
    "            self.iteration += 1\n",
    "\n",
    "            if self.empty_cache is not None and self.iteration % self.empty_cache == 0:\n",
    "                #torch.cuda.empty_cache()\n",
    "                print(\"\")\n",
    "\n",
    "        summary[\"lr\"] = self.optimizer.param_groups[0][\"lr\"]\n",
    "        summary[\"train_time\"] = time.time() - start_time\n",
    "        summary[\"train_loss\"] = sum_loss / n_batches\n",
    "        self.logger.debug(\" Processed %i batches\", n_batches)\n",
    "        self.logger.info(\"  Training loss: %.3f\", summary[\"train_loss\"])\n",
    "        self.logger.info(\"  Learning rate: %.5f\", summary[\"lr\"])\n",
    "        return summary\n",
    "    \n",
    "    @torch.no_grad()\n",
    "    def evaluate(self, data_loader, max_iters_eval=None, **kwargs):\n",
    "        \"\"\"Evaluate the model\"\"\"\n",
    "        self.model.eval()\n",
    "        summary = dict()\n",
    "        sum_loss = 0\n",
    "        start_time = time.time()\n",
    "        # Loop over batches\n",
    "        batch_size = data_loader.batch_size\n",
    "        n_batches = int(math.ceil(len(data_loader.dataset)/batch_size))\n",
    "        t = tqdm.tqdm(enumerate(data_loader),total=n_batches)\n",
    "        true=[]\n",
    "        pred=[]\n",
    "        for i, data in t:\n",
    "            batch_input = self.arrange_sparse_minkowski(data)\n",
    "            batch_output = self.model(batch_input)\n",
    "            batch_target = self.arrange_truth(data).to(batch_output.device)\n",
    "            batch_target = torch.reshape(batch_target, (len(batch_target),))\n",
    "            \n",
    "            \n",
    "            pred+=np.argmax(softmax(batch_output.F.cpu().detach().numpy(),axis=-1), axis=-1).tolist()\n",
    "            true+=batch_target.cpu().detach().numpy().tolist()\n",
    "            \n",
    "            batch_loss = self.loss_func(batch_output.F, batch_target)\n",
    "            sum_loss += batch_loss.item()\n",
    "            self.metrics.valid_batch_metrics(batch_output.F, batch_target)\n",
    "        summary[\"valid_time\"] = time.time() - start_time\n",
    "        summary[\"valid_loss\"] = sum_loss / n_batches\n",
    "        self.logger.debug(\" Processed %i samples in %i batches\",\n",
    "                          len(data_loader.sampler), n_batches)\n",
    "        self.logger.info(\"  Validation loss: %.3f\" % (summary[\"valid_loss\"]))\n",
    "        return summary, np.array(true), np.array(pred)\n",
    "    \n",
    "    def train(self, train_data_loader, n_epochs, resume=False, valid_data_loader=None, sherpa_study=None, sherpa_trial=None, **kwargs):\n",
    "        \"\"\"Run the model training\"\"\"\n",
    "\n",
    "        # Loop over epochs\n",
    "        best_valid_loss = 99999\n",
    "        self.first_epoch = 0\n",
    "        if resume:\n",
    "            self.logger.info(\"Resuming existing training!\")\n",
    "            state_dict = None\n",
    "            while True:\n",
    "                state_files = glob(f\"{self.output_dir}/checkpoints/*{self.first_epoch:03d}.pth.tar\")\n",
    "                if len(state_files) > 1:\n",
    "                    raise Exception(f\"More than one state file found for epoch {self.first_epoch}!\")\n",
    "                elif len(state_files) == 0:\n",
    "                    self.logger.info(f\"Resuming training from epoch {self.first_epoch}.\")\n",
    "                    self.load_state_dict(state_dict)\n",
    "                    break\n",
    "                state_dict = state_files[0]\n",
    "                self.first_epoch += 1\n",
    "        n_batches = int(math.ceil(len(train_data_loader.dataset)/train_data_loader.batch_size))\n",
    "        self.iteration = self.first_epoch * n_batches\n",
    "        for i in range(self.first_epoch, n_epochs):\n",
    "            self.logger.info(\"Epoch %i\" % i)\n",
    "            self.writer.add_scalar(\"learning_rate\", self.optimizer.param_groups[0][\"lr\"], i+1)\n",
    "            summary = dict(epoch=i)\n",
    "            # Train on this epoch\n",
    "            sum_train = self.train_epoch(train_data_loader, **kwargs)\n",
    "            summary.update(sum_train)\n",
    "            # Evaluate on this epoch\n",
    "            sum_valid = None\n",
    "            if valid_data_loader is not None:\n",
    "                sum_valid, true_pid, pred_pid = self.evaluate(valid_data_loader, **kwargs)\n",
    "                summary.update(sum_valid)\n",
    "\n",
    "                if sum_valid[\"valid_loss\"] < best_valid_loss:\n",
    "                    best_valid_loss = sum_valid[\"valid_loss\"]\n",
    "                    self.logger.debug(\"Checkpointing new best model with loss: %.3f\", best_valid_loss)\n",
    "                    self.write_checkpoint(checkpoint_id=i,best=True)\n",
    "\n",
    "            if self.scheduler is not None:\n",
    "                self.scheduler.step(sum_valid[\"valid_loss\"])\n",
    "\n",
    "            # Save summary, checkpoint\n",
    "            self.save_summary(summary)\n",
    "            if self.output_dir is not None:\n",
    "                self.write_checkpoint(checkpoint_id=i)\n",
    "\n",
    "            self.writer.add_scalars('loss/epoch', {\n",
    "                'train': summary['train_loss'],\n",
    "                'valid': summary['valid_loss'] }, i+1)\n",
    "            metrics = self.metrics.epoch_metrics()\n",
    "            if sherpa_study is not None and sherpa_trial is not None:\n",
    "                sherpa_study.add_observation(\n",
    "                trial=sherpa_trial,\n",
    "                iteration=i,\n",
    "                objective=metrics[\"acc/epoch\"][\"valid\"])\n",
    "            for key, val in metrics.items(): self.writer.add_scalars(key, val, i+1)\n",
    "            for key, val in metrics.items(): print(key, val)\n",
    "            if valid_data_loader is not None:\n",
    "                print(confusion_matrix(pred_pid, true_pid))\n",
    "            \n",
    "\n",
    "        return self.summaries\n",
    "    \n",
    "def _test():\n",
    "    t = Trainer(output_dir=\"./\")\n",
    "    t.build_model()\n"
   ]
  },
  {
   "cell_type": "code",
   "execution_count": 9,
   "metadata": {},
   "outputs": [
    {
     "name": "stdout",
     "output_type": "stream",
     "text": [
      "[24059 24059 32080 32080 40101]\n"
     ]
    }
   ],
   "source": [
    "fulllen = len(dataset)\n",
    "t_v_split= 0.2\n",
    "tv_num = math.ceil(fulllen*t_v_split)\n",
    "#splits = np.cumsum([fulllen-tv_num,0,tv_num])\n",
    "splits=np.cumsum([fulllen-2*tv_num,0,tv_num, 0, tv_num])\n",
    "print(splits)\n",
    "collate = collate_sparse_minkowski_saul\n",
    "\n",
    "train_dataset = torch.utils.data.Subset(dataset,np.arange(start=0,stop=splits[0]))\n",
    "valid_dataset = torch.utils.data.Subset(dataset,np.arange(start=splits[1],stop=splits[2]))\n",
    "test_dataset = torch.utils.data.Subset(dataset,np.arange(start=splits[3],stop=splits[4]))\n",
    "train_loader = DataLoader(train_dataset, collate_fn=collate, batch_size=32, num_workers=0, shuffle=True)#, pin_memory=True)\n",
    "valid_loader = DataLoader(valid_dataset, collate_fn=collate, batch_size=32, num_workers=0, shuffle=False)\n",
    "test_loader = DataLoader(test_dataset, collate_fn=collate, batch_size=32, num_workers=0, shuffle=False)"
   ]
  },
  {
   "cell_type": "code",
   "execution_count": 10,
   "metadata": {},
   "outputs": [],
   "source": [
    "trainer = Trainer(device=0, n_epochs=10, max_iters_train=None, max_iters_eval=None,\n",
    "                  summary_dir='summary/3d/test', output_dir='./')\n",
    "name = \"MinkUNet14A\"\n",
    "#name = \"MinkUNet14B\"\n",
    "#name = \"MinkUNet14C\"\n",
    "#name = \"MinkUNet14D\"\n",
    "#name = \"MinkUNet18A\"\n",
    "#name = \"MinkUNet18B\"\n",
    "#name = \"MinkUNet18C\"\n",
    "#name = \"MinkUNet18D\"\n",
    "#name = \"MinkUNet34A\"\n",
    "#name = \"MinkUNet34B\"\n",
    "#name = \"MinkUNet34C\"\n",
    "#name = \"MinkUNet34D\"\n",
    "trainer.build_model(name=name,\n",
    "                    in_channels=3, out_channels=2, D=3\n",
    "                   )"
   ]
  },
  {
   "cell_type": "code",
   "execution_count": 11,
   "metadata": {
    "scrolled": true
   },
   "outputs": [
    {
     "name": "stderr",
     "output_type": "stream",
     "text": [
      "  0%|          | 0/752 [00:00<?, ?it/s]/usr/local/lib64/python3.6/site-packages/MinkowskiEngine-0.5.2-py3.6-linux-x86_64.egg/MinkowskiEngine/MinkowskiSparseTensor.py:288: UserWarning: coordinates implicitly converted to torch.IntTensor. To remove this warning, use `.int()` to convert the coords into an torch.IntTensor\n",
      "  + \"coords into an torch.IntTensor\"\n",
      "/usr/local/lib64/python3.6/site-packages/torch/autograd/__init__.py:132: UserWarning: CUDA initialization: Found no NVIDIA driver on your system. Please check that you have an NVIDIA GPU and installed a driver from http://www.nvidia.com/Download/index.aspx (Triggered internally at  /pytorch/c10/cuda/CUDAFunctions.cpp:100.)\n",
      "  allow_unreachable=True)  # allow_unreachable flag\n",
      "loss = 0.25295: 100%|██████████| 752/752 [24:57<00:00,  1.99s/it]\n",
      "100%|██████████| 251/251 [06:14<00:00,  1.49s/it]\n"
     ]
    },
    {
     "name": "stdout",
     "output_type": "stream",
     "text": [
      "acc/epoch {'train': 91.11030019729618, 'valid': 93.20492389207304}\n",
      "acc_class/epoch/track {'train': 93.33102688498148, 'valid': 95.53967593843376}\n",
      "acc_class/epoch/shower {'train': 87.41603771001981, 'valid': 89.17765540593611}\n",
      "time/epoch {'train': 1497.5179750919342, 'valid': 374.40743613243103}\n"
     ]
    },
    {
     "name": "stderr",
     "output_type": "stream",
     "text": [
      "\r",
      "  0%|          | 0/752 [00:00<?, ?it/s]"
     ]
    },
    {
     "name": "stdout",
     "output_type": "stream",
     "text": [
      "[[944189  62005]\n",
      " [ 44080 510930]]\n"
     ]
    },
    {
     "name": "stderr",
     "output_type": "stream",
     "text": [
      "/usr/local/lib64/python3.6/site-packages/MinkowskiEngine-0.5.2-py3.6-linux-x86_64.egg/MinkowskiEngine/MinkowskiSparseTensor.py:288: UserWarning: coordinates implicitly converted to torch.IntTensor. To remove this warning, use `.int()` to convert the coords into an torch.IntTensor\n",
      "  + \"coords into an torch.IntTensor\"\n",
      "loss = 0.15753: 100%|██████████| 752/752 [24:14<00:00,  1.93s/it]\n",
      "100%|██████████| 251/251 [05:51<00:00,  1.40s/it]\n"
     ]
    },
    {
     "name": "stdout",
     "output_type": "stream",
     "text": [
      "acc/epoch {'train': 93.32683602915777, 'valid': 93.94127865416691}\n",
      "acc_class/epoch/track {'train': 94.85503149193492, 'valid': 96.10106155307918}\n",
      "acc_class/epoch/shower {'train': 90.78462531828096, 'valid': 90.2158185483519}\n",
      "time/epoch {'train': 1454.5342950820923, 'valid': 351.0187928676605}\n"
     ]
    },
    {
     "name": "stderr",
     "output_type": "stream",
     "text": [
      "\r",
      "  0%|          | 0/752 [00:00<?, ?it/s]"
     ]
    },
    {
     "name": "stdout",
     "output_type": "stream",
     "text": [
      "[[949737  56057]\n",
      " [ 38532 516878]]\n"
     ]
    },
    {
     "name": "stderr",
     "output_type": "stream",
     "text": [
      "/usr/local/lib64/python3.6/site-packages/MinkowskiEngine-0.5.2-py3.6-linux-x86_64.egg/MinkowskiEngine/MinkowskiSparseTensor.py:288: UserWarning: coordinates implicitly converted to torch.IntTensor. To remove this warning, use `.int()` to convert the coords into an torch.IntTensor\n",
      "  + \"coords into an torch.IntTensor\"\n",
      "loss = 0.15714: 100%|██████████| 752/752 [21:44<00:00,  1.74s/it]\n",
      "100%|██████████| 251/251 [04:20<00:00,  1.04s/it]\n"
     ]
    },
    {
     "name": "stdout",
     "output_type": "stream",
     "text": [
      "acc/epoch {'train': 93.92138004967846, 'valid': 94.16251815906185}\n",
      "acc_class/epoch/track {'train': 95.18718062747968, 'valid': 96.02122499036193}\n",
      "acc_class/epoch/shower {'train': 91.8156731129019, 'valid': 90.95639121366298}\n",
      "time/epoch {'train': 1304.7936642169952, 'valid': 260.42317628860474}\n"
     ]
    },
    {
     "name": "stderr",
     "output_type": "stream",
     "text": [
      "\r",
      "  0%|          | 0/752 [00:00<?, ?it/s]"
     ]
    },
    {
     "name": "stdout",
     "output_type": "stream",
     "text": [
      "[[948948  51814]\n",
      " [ 39321 521121]]\n"
     ]
    },
    {
     "name": "stderr",
     "output_type": "stream",
     "text": [
      "/usr/local/lib64/python3.6/site-packages/MinkowskiEngine-0.5.2-py3.6-linux-x86_64.egg/MinkowskiEngine/MinkowskiSparseTensor.py:288: UserWarning: coordinates implicitly converted to torch.IntTensor. To remove this warning, use `.int()` to convert the coords into an torch.IntTensor\n",
      "  + \"coords into an torch.IntTensor\"\n",
      "loss = 0.23922: 100%|██████████| 752/752 [19:14<00:00,  1.54s/it]\n",
      "100%|██████████| 251/251 [04:18<00:00,  1.03s/it]\n"
     ]
    },
    {
     "name": "stdout",
     "output_type": "stream",
     "text": [
      "acc/epoch {'train': 94.21527920098148, 'valid': 94.19031721671223}\n",
      "acc_class/epoch/track {'train': 95.3267676132134, 'valid': 96.33713088238122}\n",
      "acc_class/epoch/shower {'train': 92.36627636370274, 'valid': 90.48722804506619}\n",
      "time/epoch {'train': 1154.4650664329529, 'valid': 258.802006483078}\n"
     ]
    },
    {
     "name": "stderr",
     "output_type": "stream",
     "text": [
      "\r",
      "  0%|          | 0/752 [00:00<?, ?it/s]"
     ]
    },
    {
     "name": "stdout",
     "output_type": "stream",
     "text": [
      "[[952070  54502]\n",
      " [ 36199 518433]]\n"
     ]
    },
    {
     "name": "stderr",
     "output_type": "stream",
     "text": [
      "/usr/local/lib64/python3.6/site-packages/MinkowskiEngine-0.5.2-py3.6-linux-x86_64.egg/MinkowskiEngine/MinkowskiSparseTensor.py:288: UserWarning: coordinates implicitly converted to torch.IntTensor. To remove this warning, use `.int()` to convert the coords into an torch.IntTensor\n",
      "  + \"coords into an torch.IntTensor\"\n",
      "loss = 0.17954: 100%|██████████| 752/752 [18:22<00:00,  1.47s/it]\n",
      "100%|██████████| 251/251 [04:21<00:00,  1.04s/it]\n"
     ]
    },
    {
     "name": "stdout",
     "output_type": "stream",
     "text": [
      "acc/epoch {'train': 94.4608019180967, 'valid': 92.72734376801495}\n",
      "acc_class/epoch/track {'train': 95.47033202226946, 'valid': 92.30158995172367}\n",
      "acc_class/epoch/shower {'train': 92.78141056647166, 'valid': 93.46173649715936}\n",
      "time/epoch {'train': 1102.3669004440308, 'valid': 261.34525847435}\n"
     ]
    },
    {
     "name": "stderr",
     "output_type": "stream",
     "text": [
      "\r",
      "  0%|          | 0/752 [00:00<?, ?it/s]"
     ]
    },
    {
     "name": "stdout",
     "output_type": "stream",
     "text": [
      "[[912188  37460]\n",
      " [ 76081 535475]]\n"
     ]
    },
    {
     "name": "stderr",
     "output_type": "stream",
     "text": [
      "/usr/local/lib64/python3.6/site-packages/MinkowskiEngine-0.5.2-py3.6-linux-x86_64.egg/MinkowskiEngine/MinkowskiSparseTensor.py:288: UserWarning: coordinates implicitly converted to torch.IntTensor. To remove this warning, use `.int()` to convert the coords into an torch.IntTensor\n",
      "  + \"coords into an torch.IntTensor\"\n",
      "loss = 0.10107: 100%|██████████| 752/752 [18:23<00:00,  1.47s/it]\n",
      "100%|██████████| 251/251 [04:35<00:00,  1.10s/it]\n"
     ]
    },
    {
     "name": "stdout",
     "output_type": "stream",
     "text": [
      "acc/epoch {'train': 94.64702656249565, 'valid': 94.0925080899101}\n",
      "acc_class/epoch/track {'train': 95.50115705301734, 'valid': 96.17432095917205}\n",
      "acc_class/epoch/shower {'train': 93.22614832121052, 'valid': 90.5015403143463}\n",
      "time/epoch {'train': 1103.8550734519958, 'valid': 275.8994097709656}\n"
     ]
    },
    {
     "name": "stderr",
     "output_type": "stream",
     "text": [
      "\r",
      "  0%|          | 0/752 [00:00<?, ?it/s]"
     ]
    },
    {
     "name": "stdout",
     "output_type": "stream",
     "text": [
      "[[950461  54420]\n",
      " [ 37808 518515]]\n"
     ]
    },
    {
     "name": "stderr",
     "output_type": "stream",
     "text": [
      "/usr/local/lib64/python3.6/site-packages/MinkowskiEngine-0.5.2-py3.6-linux-x86_64.egg/MinkowskiEngine/MinkowskiSparseTensor.py:288: UserWarning: coordinates implicitly converted to torch.IntTensor. To remove this warning, use `.int()` to convert the coords into an torch.IntTensor\n",
      "  + \"coords into an torch.IntTensor\"\n",
      "loss = 0.12951: 100%|██████████| 752/752 [18:32<00:00,  1.48s/it]\n",
      "100%|██████████| 251/251 [03:54<00:00,  1.07it/s]\n"
     ]
    },
    {
     "name": "stdout",
     "output_type": "stream",
     "text": [
      "acc/epoch {'train': 94.86301802562902, 'valid': 94.24655586329526}\n",
      "acc_class/epoch/track {'train': 95.59322068767592, 'valid': 95.73223484699004}\n",
      "acc_class/epoch/shower {'train': 93.64829839467752, 'valid': 91.68387338877884}\n",
      "time/epoch {'train': 1112.2215464115143, 'valid': 234.9256329536438}\n"
     ]
    },
    {
     "name": "stderr",
     "output_type": "stream",
     "text": [
      "\r",
      "  0%|          | 0/752 [00:00<?, ?it/s]"
     ]
    },
    {
     "name": "stdout",
     "output_type": "stream",
     "text": [
      "[[946092  47646]\n",
      " [ 42177 525289]]\n"
     ]
    },
    {
     "name": "stderr",
     "output_type": "stream",
     "text": [
      "/usr/local/lib64/python3.6/site-packages/MinkowskiEngine-0.5.2-py3.6-linux-x86_64.egg/MinkowskiEngine/MinkowskiSparseTensor.py:288: UserWarning: coordinates implicitly converted to torch.IntTensor. To remove this warning, use `.int()` to convert the coords into an torch.IntTensor\n",
      "  + \"coords into an torch.IntTensor\"\n",
      "loss = 0.15370: 100%|██████████| 752/752 [14:27<00:00,  1.15s/it]\n",
      "100%|██████████| 251/251 [01:25<00:00,  2.95it/s]\n"
     ]
    },
    {
     "name": "stdout",
     "output_type": "stream",
     "text": [
      "acc/epoch {'train': 95.01195919418866, 'valid': 94.14772188644149}\n",
      "acc_class/epoch/track {'train': 95.63069761604903, 'valid': 94.73149516983736}\n",
      "acc_class/epoch/shower {'train': 93.98266452501986, 'valid': 93.1407576775725}\n",
      "time/epoch {'train': 867.8327696323395, 'valid': 85.20453453063965}\n"
     ]
    },
    {
     "name": "stderr",
     "output_type": "stream",
     "text": [
      "\r",
      "  0%|          | 0/752 [00:00<?, ?it/s]"
     ]
    },
    {
     "name": "stdout",
     "output_type": "stream",
     "text": [
      "[[936202  39299]\n",
      " [ 52067 533636]]\n"
     ]
    },
    {
     "name": "stderr",
     "output_type": "stream",
     "text": [
      "/usr/local/lib64/python3.6/site-packages/MinkowskiEngine-0.5.2-py3.6-linux-x86_64.egg/MinkowskiEngine/MinkowskiSparseTensor.py:288: UserWarning: coordinates implicitly converted to torch.IntTensor. To remove this warning, use `.int()` to convert the coords into an torch.IntTensor\n",
      "  + \"coords into an torch.IntTensor\"\n",
      "loss = 0.13733: 100%|██████████| 752/752 [10:21<00:00,  1.21it/s]\n",
      "100%|██████████| 251/251 [01:26<00:00,  2.90it/s]\n"
     ]
    },
    {
     "name": "stdout",
     "output_type": "stream",
     "text": [
      "acc/epoch {'train': 95.13426013072987, 'valid': 94.51096717661497}\n",
      "acc_class/epoch/track {'train': 95.69094186412916, 'valid': 95.42280492457013}\n",
      "acc_class/epoch/shower {'train': 94.20819910014329, 'valid': 92.93811688935045}\n",
      "time/epoch {'train': 621.8720417022705, 'valid': 86.68237233161926}\n"
     ]
    },
    {
     "name": "stderr",
     "output_type": "stream",
     "text": [
      "\r",
      "  0%|          | 0/752 [00:00<?, ?it/s]"
     ]
    },
    {
     "name": "stdout",
     "output_type": "stream",
     "text": [
      "[[943034  40460]\n",
      " [ 45235 532475]]\n"
     ]
    },
    {
     "name": "stderr",
     "output_type": "stream",
     "text": [
      "/usr/local/lib64/python3.6/site-packages/MinkowskiEngine-0.5.2-py3.6-linux-x86_64.egg/MinkowskiEngine/MinkowskiSparseTensor.py:288: UserWarning: coordinates implicitly converted to torch.IntTensor. To remove this warning, use `.int()` to convert the coords into an torch.IntTensor\n",
      "  + \"coords into an torch.IntTensor\"\n",
      "loss = 0.10337: 100%|██████████| 752/752 [10:20<00:00,  1.21it/s]\n",
      "100%|██████████| 251/251 [01:25<00:00,  2.95it/s]\n"
     ]
    },
    {
     "name": "stdout",
     "output_type": "stream",
     "text": [
      "acc/epoch {'train': 95.3216840138692, 'valid': 94.20267947045998}\n",
      "acc_class/epoch/track {'train': 95.80676717432532, 'valid': 96.2147957691681}\n",
      "acc_class/epoch/shower {'train': 94.51472990609001, 'valid': 90.73193294178223}\n",
      "time/epoch {'train': 620.8607585430145, 'valid': 85.17957353591919}\n"
     ]
    },
    {
     "name": "stderr",
     "output_type": "stream",
     "text": [
      "\r",
      "  0%|          | 0/752 [00:00<?, ?it/s]"
     ]
    },
    {
     "name": "stdout",
     "output_type": "stream",
     "text": [
      "[[950861  53100]\n",
      " [ 37408 519835]]\n"
     ]
    },
    {
     "name": "stderr",
     "output_type": "stream",
     "text": [
      "/usr/local/lib64/python3.6/site-packages/MinkowskiEngine-0.5.2-py3.6-linux-x86_64.egg/MinkowskiEngine/MinkowskiSparseTensor.py:288: UserWarning: coordinates implicitly converted to torch.IntTensor. To remove this warning, use `.int()` to convert the coords into an torch.IntTensor\n",
      "  + \"coords into an torch.IntTensor\"\n",
      "loss = 0.18774: 100%|██████████| 752/752 [10:08<00:00,  1.23it/s]\n",
      "100%|██████████| 251/251 [01:25<00:00,  2.94it/s]\n"
     ]
    },
    {
     "name": "stdout",
     "output_type": "stream",
     "text": [
      "acc/epoch {'train': 95.36168719185186, 'valid': 94.22221567456911}\n",
      "acc_class/epoch/track {'train': 95.79744080239715, 'valid': 94.38401892602116}\n",
      "acc_class/epoch/shower {'train': 94.63679464831665, 'valid': 93.94311745660502}\n",
      "time/epoch {'train': 608.9362721443176, 'valid': 85.33984088897705}\n"
     ]
    },
    {
     "name": "stderr",
     "output_type": "stream",
     "text": [
      "\r",
      "  0%|          | 0/752 [00:00<?, ?it/s]"
     ]
    },
    {
     "name": "stdout",
     "output_type": "stream",
     "text": [
      "[[932768  34702]\n",
      " [ 55501 538233]]\n"
     ]
    },
    {
     "name": "stderr",
     "output_type": "stream",
     "text": [
      "/usr/local/lib64/python3.6/site-packages/MinkowskiEngine-0.5.2-py3.6-linux-x86_64.egg/MinkowskiEngine/MinkowskiSparseTensor.py:288: UserWarning: coordinates implicitly converted to torch.IntTensor. To remove this warning, use `.int()` to convert the coords into an torch.IntTensor\n",
      "  + \"coords into an torch.IntTensor\"\n",
      "loss = 0.14513: 100%|██████████| 752/752 [10:10<00:00,  1.23it/s]\n",
      "100%|██████████| 251/251 [01:24<00:00,  2.95it/s]\n"
     ]
    },
    {
     "name": "stdout",
     "output_type": "stream",
     "text": [
      "acc/epoch {'train': 95.52910948599985, 'valid': 94.21164690841171}\n",
      "acc_class/epoch/track {'train': 95.89553914830337, 'valid': 96.53697525673678}\n",
      "acc_class/epoch/shower {'train': 94.91953994140893, 'valid': 90.20063357972545}\n",
      "time/epoch {'train': 610.4878463745117, 'valid': 84.98092222213745}\n"
     ]
    },
    {
     "name": "stderr",
     "output_type": "stream",
     "text": [
      "\r",
      "  0%|          | 0/752 [00:00<?, ?it/s]"
     ]
    },
    {
     "name": "stdout",
     "output_type": "stream",
     "text": [
      "[[954045  56144]\n",
      " [ 34224 516791]]\n"
     ]
    },
    {
     "name": "stderr",
     "output_type": "stream",
     "text": [
      "/usr/local/lib64/python3.6/site-packages/MinkowskiEngine-0.5.2-py3.6-linux-x86_64.egg/MinkowskiEngine/MinkowskiSparseTensor.py:288: UserWarning: coordinates implicitly converted to torch.IntTensor. To remove this warning, use `.int()` to convert the coords into an torch.IntTensor\n",
      "  + \"coords into an torch.IntTensor\"\n",
      "loss = 0.16115: 100%|██████████| 752/752 [10:18<00:00,  1.22it/s]\n",
      "100%|██████████| 251/251 [01:26<00:00,  2.90it/s]\n"
     ]
    },
    {
     "name": "stdout",
     "output_type": "stream",
     "text": [
      "acc/epoch {'train': 95.61862409197819, 'valid': 94.07085813256948}\n",
      "acc_class/epoch/track {'train': 95.92502694189979, 'valid': 95.59097776010378}\n",
      "acc_class/epoch/shower {'train': 95.10891141065774, 'valid': 91.44876818487263}\n",
      "time/epoch {'train': 618.4644982814789, 'valid': 86.45353770256042}\n"
     ]
    },
    {
     "name": "stderr",
     "output_type": "stream",
     "text": [
      "\r",
      "  0%|          | 0/752 [00:00<?, ?it/s]"
     ]
    },
    {
     "name": "stdout",
     "output_type": "stream",
     "text": [
      "[[944696  48993]\n",
      " [ 43573 523942]]\n"
     ]
    },
    {
     "name": "stderr",
     "output_type": "stream",
     "text": [
      "/usr/local/lib64/python3.6/site-packages/MinkowskiEngine-0.5.2-py3.6-linux-x86_64.egg/MinkowskiEngine/MinkowskiSparseTensor.py:288: UserWarning: coordinates implicitly converted to torch.IntTensor. To remove this warning, use `.int()` to convert the coords into an torch.IntTensor\n",
      "  + \"coords into an torch.IntTensor\"\n",
      "loss = 0.11129: 100%|██████████| 752/752 [10:16<00:00,  1.22it/s]\n",
      "100%|██████████| 251/251 [01:24<00:00,  2.98it/s]\n"
     ]
    },
    {
     "name": "stdout",
     "output_type": "stream",
     "text": [
      "acc/epoch {'train': 95.77709492552835, 'valid': 94.19204665117435}\n",
      "acc_class/epoch/track {'train': 96.0434581501347, 'valid': 95.04305001978206}\n",
      "acc_class/epoch/shower {'train': 95.3339896689878, 'valid': 92.72413100962588}\n",
      "time/epoch {'train': 616.4163992404938, 'valid': 84.3405351638794}\n"
     ]
    },
    {
     "name": "stderr",
     "output_type": "stream",
     "text": [
      "\r",
      "  0%|          | 0/752 [00:00<?, ?it/s]"
     ]
    },
    {
     "name": "stdout",
     "output_type": "stream",
     "text": [
      "[[939281  41686]\n",
      " [ 48988 531249]]\n"
     ]
    },
    {
     "name": "stderr",
     "output_type": "stream",
     "text": [
      "/usr/local/lib64/python3.6/site-packages/MinkowskiEngine-0.5.2-py3.6-linux-x86_64.egg/MinkowskiEngine/MinkowskiSparseTensor.py:288: UserWarning: coordinates implicitly converted to torch.IntTensor. To remove this warning, use `.int()` to convert the coords into an torch.IntTensor\n",
      "  + \"coords into an torch.IntTensor\"\n",
      "loss = 0.18842: 100%|██████████| 752/752 [10:19<00:00,  1.21it/s]\n",
      "100%|██████████| 251/251 [01:34<00:00,  2.65it/s]\n"
     ]
    },
    {
     "name": "stdout",
     "output_type": "stream",
     "text": [
      "acc/epoch {'train': 95.83078227413783, 'valid': 94.45383178623678}\n",
      "acc_class/epoch/track {'train': 96.08909565394497, 'valid': 96.1306081643763}\n",
      "acc_class/epoch/shower {'train': 95.40106823761329, 'valid': 91.56152094042082}\n",
      "time/epoch {'train': 619.3344280719757, 'valid': 94.86471128463745}\n"
     ]
    },
    {
     "name": "stderr",
     "output_type": "stream",
     "text": [
      "\r",
      "  0%|          | 0/752 [00:00<?, ?it/s]"
     ]
    },
    {
     "name": "stdout",
     "output_type": "stream",
     "text": [
      "[[950029  48347]\n",
      " [ 38240 524588]]\n"
     ]
    },
    {
     "name": "stderr",
     "output_type": "stream",
     "text": [
      "/usr/local/lib64/python3.6/site-packages/MinkowskiEngine-0.5.2-py3.6-linux-x86_64.egg/MinkowskiEngine/MinkowskiSparseTensor.py:288: UserWarning: coordinates implicitly converted to torch.IntTensor. To remove this warning, use `.int()` to convert the coords into an torch.IntTensor\n",
      "  + \"coords into an torch.IntTensor\"\n",
      "loss = 0.09325: 100%|██████████| 752/752 [10:37<00:00,  1.18it/s]\n",
      "100%|██████████| 251/251 [01:23<00:00,  3.01it/s]\n"
     ]
    },
    {
     "name": "stdout",
     "output_type": "stream",
     "text": [
      "acc/epoch {'train': 95.88813158390099, 'valid': 93.41937376537595}\n",
      "acc_class/epoch/track {'train': 96.09866204279776, 'valid': 95.35592030105164}\n",
      "acc_class/epoch/shower {'train': 95.5379062360253, 'valid': 90.07897929084452}\n",
      "time/epoch {'train': 637.3516631126404, 'valid': 83.35734558105469}\n"
     ]
    },
    {
     "name": "stderr",
     "output_type": "stream",
     "text": [
      "\r",
      "  0%|          | 0/752 [00:00<?, ?it/s]"
     ]
    },
    {
     "name": "stdout",
     "output_type": "stream",
     "text": [
      "[[942373  56841]\n",
      " [ 45896 516094]]\n"
     ]
    },
    {
     "name": "stderr",
     "output_type": "stream",
     "text": [
      "/usr/local/lib64/python3.6/site-packages/MinkowskiEngine-0.5.2-py3.6-linux-x86_64.egg/MinkowskiEngine/MinkowskiSparseTensor.py:288: UserWarning: coordinates implicitly converted to torch.IntTensor. To remove this warning, use `.int()` to convert the coords into an torch.IntTensor\n",
      "  + \"coords into an torch.IntTensor\"\n",
      "loss = 0.09104: 100%|██████████| 752/752 [10:21<00:00,  1.21it/s]\n",
      "100%|██████████| 251/251 [01:25<00:00,  2.95it/s]\n"
     ]
    },
    {
     "name": "stdout",
     "output_type": "stream",
     "text": [
      "acc/epoch {'train': 95.96882321914653, 'valid': 94.08501387390757}\n",
      "acc_class/epoch/track {'train': 96.15520317261229, 'valid': 94.49016411523583}\n",
      "acc_class/epoch/shower {'train': 95.65877314666935, 'valid': 93.3861607337656}\n",
      "time/epoch {'train': 621.3251233100891, 'valid': 85.01734209060669}\n"
     ]
    },
    {
     "name": "stderr",
     "output_type": "stream",
     "text": [
      "\r",
      "  0%|          | 0/752 [00:00<?, ?it/s]"
     ]
    },
    {
     "name": "stdout",
     "output_type": "stream",
     "text": [
      "[[933817  37893]\n",
      " [ 54452 535042]]\n"
     ]
    },
    {
     "name": "stderr",
     "output_type": "stream",
     "text": [
      "/usr/local/lib64/python3.6/site-packages/MinkowskiEngine-0.5.2-py3.6-linux-x86_64.egg/MinkowskiEngine/MinkowskiSparseTensor.py:288: UserWarning: coordinates implicitly converted to torch.IntTensor. To remove this warning, use `.int()` to convert the coords into an torch.IntTensor\n",
      "  + \"coords into an torch.IntTensor\"\n",
      "loss = 0.17240: 100%|██████████| 752/752 [10:17<00:00,  1.22it/s]\n",
      "100%|██████████| 251/251 [01:23<00:00,  2.99it/s]\n"
     ]
    },
    {
     "name": "stdout",
     "output_type": "stream",
     "text": [
      "acc/epoch {'train': 96.00212350916958, 'valid': 94.26686070494311}\n",
      "acc_class/epoch/track {'train': 96.18294227147217, 'valid': 96.20214739104433}\n",
      "acc_class/epoch/shower {'train': 95.70132468765115, 'valid': 90.9286393744491}\n",
      "time/epoch {'train': 617.5413355827332, 'valid': 83.85375213623047}\n"
     ]
    },
    {
     "name": "stderr",
     "output_type": "stream",
     "text": [
      "\r",
      "  0%|          | 0/752 [00:00<?, ?it/s]"
     ]
    },
    {
     "name": "stdout",
     "output_type": "stream",
     "text": [
      "[[950736  51973]\n",
      " [ 37533 520962]]\n"
     ]
    },
    {
     "name": "stderr",
     "output_type": "stream",
     "text": [
      "/usr/local/lib64/python3.6/site-packages/MinkowskiEngine-0.5.2-py3.6-linux-x86_64.egg/MinkowskiEngine/MinkowskiSparseTensor.py:288: UserWarning: coordinates implicitly converted to torch.IntTensor. To remove this warning, use `.int()` to convert the coords into an torch.IntTensor\n",
      "  + \"coords into an torch.IntTensor\"\n",
      "loss = 0.09099: 100%|██████████| 752/752 [10:14<00:00,  1.22it/s]\n",
      "100%|██████████| 251/251 [01:23<00:00,  3.00it/s]\n"
     ]
    },
    {
     "name": "stdout",
     "output_type": "stream",
     "text": [
      "acc/epoch {'train': 96.01891285153489, 'valid': 93.90905993066889}\n",
      "acc_class/epoch/track {'train': 96.20330942193296, 'valid': 94.35295450934917}\n",
      "acc_class/epoch/shower {'train': 95.7121622114937, 'valid': 93.14337577561155}\n",
      "time/epoch {'train': 614.4922647476196, 'valid': 83.7589910030365}\n"
     ]
    },
    {
     "name": "stderr",
     "output_type": "stream",
     "text": [
      "\r",
      "  0%|          | 0/752 [00:00<?, ?it/s]"
     ]
    },
    {
     "name": "stdout",
     "output_type": "stream",
     "text": [
      "[[932461  39284]\n",
      " [ 55808 533651]]\n"
     ]
    },
    {
     "name": "stderr",
     "output_type": "stream",
     "text": [
      "/usr/local/lib64/python3.6/site-packages/MinkowskiEngine-0.5.2-py3.6-linux-x86_64.egg/MinkowskiEngine/MinkowskiSparseTensor.py:288: UserWarning: coordinates implicitly converted to torch.IntTensor. To remove this warning, use `.int()` to convert the coords into an torch.IntTensor\n",
      "  + \"coords into an torch.IntTensor\"\n",
      "loss = 0.14722: 100%|██████████| 752/752 [10:12<00:00,  1.23it/s]\n",
      "100%|██████████| 251/251 [01:23<00:00,  3.02it/s]\n"
     ]
    },
    {
     "name": "stdout",
     "output_type": "stream",
     "text": [
      "acc/epoch {'train': 96.08799756897176, 'valid': 93.96978229622778}\n",
      "acc_class/epoch/track {'train': 96.24874119695069, 'valid': 95.31504074295562}\n",
      "acc_class/epoch/shower {'train': 95.8205944895184, 'valid': 91.64931449466344}\n",
      "time/epoch {'train': 612.835547208786, 'valid': 83.18294668197632}\n"
     ]
    },
    {
     "name": "stderr",
     "output_type": "stream",
     "text": [
      "\r",
      "  0%|          | 0/752 [00:00<?, ?it/s]"
     ]
    },
    {
     "name": "stdout",
     "output_type": "stream",
     "text": [
      "[[941969  47844]\n",
      " [ 46300 525091]]\n"
     ]
    },
    {
     "name": "stderr",
     "output_type": "stream",
     "text": [
      "/usr/local/lib64/python3.6/site-packages/MinkowskiEngine-0.5.2-py3.6-linux-x86_64.egg/MinkowskiEngine/MinkowskiSparseTensor.py:288: UserWarning: coordinates implicitly converted to torch.IntTensor. To remove this warning, use `.int()` to convert the coords into an torch.IntTensor\n",
      "  + \"coords into an torch.IntTensor\"\n",
      "loss = 0.10586: 100%|██████████| 752/752 [10:15<00:00,  1.22it/s]\n",
      "100%|██████████| 251/251 [01:23<00:00,  2.99it/s]\n"
     ]
    },
    {
     "name": "stdout",
     "output_type": "stream",
     "text": [
      "acc/epoch {'train': 96.19847743792923, 'valid': 94.39759313965375}\n",
      "acc_class/epoch/track {'train': 96.32890684977444, 'valid': 95.79294706198414}\n",
      "acc_class/epoch/shower {'train': 95.98150319878071, 'valid': 91.99071447895486}\n",
      "time/epoch {'train': 615.8473954200745, 'valid': 83.81257557868958}\n"
     ]
    },
    {
     "name": "stderr",
     "output_type": "stream",
     "text": [
      "\r",
      "  0%|          | 0/752 [00:00<?, ?it/s]"
     ]
    },
    {
     "name": "stdout",
     "output_type": "stream",
     "text": [
      "[[946692  45888]\n",
      " [ 41577 527047]]\n"
     ]
    },
    {
     "name": "stderr",
     "output_type": "stream",
     "text": [
      "/usr/local/lib64/python3.6/site-packages/MinkowskiEngine-0.5.2-py3.6-linux-x86_64.egg/MinkowskiEngine/MinkowskiSparseTensor.py:288: UserWarning: coordinates implicitly converted to torch.IntTensor. To remove this warning, use `.int()` to convert the coords into an torch.IntTensor\n",
      "  + \"coords into an torch.IntTensor\"\n",
      "loss = 0.11025: 100%|██████████| 752/752 [11:25<00:00,  1.10it/s]\n",
      "100%|██████████| 251/251 [04:12<00:00,  1.01s/it]\n"
     ]
    },
    {
     "name": "stdout",
     "output_type": "stream",
     "text": [
      "acc/epoch {'train': 96.22107023919888, 'valid': 94.14086820172123}\n",
      "acc_class/epoch/track {'train': 96.35812033831414, 'valid': 95.03252656918309}\n",
      "acc_class/epoch/shower {'train': 95.9930822374125, 'valid': 92.60282580048347}\n",
      "time/epoch {'train': 685.7703008651733, 'valid': 252.7770073413849}\n"
     ]
    },
    {
     "name": "stderr",
     "output_type": "stream",
     "text": [
      "\r",
      "  0%|          | 0/752 [00:00<?, ?it/s]"
     ]
    },
    {
     "name": "stdout",
     "output_type": "stream",
     "text": [
      "[[939177  42381]\n",
      " [ 49092 530554]]\n"
     ]
    },
    {
     "name": "stderr",
     "output_type": "stream",
     "text": [
      "/usr/local/lib64/python3.6/site-packages/MinkowskiEngine-0.5.2-py3.6-linux-x86_64.egg/MinkowskiEngine/MinkowskiSparseTensor.py:288: UserWarning: coordinates implicitly converted to torch.IntTensor. To remove this warning, use `.int()` to convert the coords into an torch.IntTensor\n",
      "  + \"coords into an torch.IntTensor\"\n",
      "loss = 0.17032: 100%|██████████| 752/752 [14:31<00:00,  1.16s/it]\n",
      "100%|██████████| 251/251 [02:17<00:00,  1.83it/s]\n"
     ]
    },
    {
     "name": "stdout",
     "output_type": "stream",
     "text": [
      "acc/epoch {'train': 96.27447919310077, 'valid': 94.12876216048639}\n",
      "acc_class/epoch/track {'train': 96.38435075936212, 'valid': 95.25017985993692}\n",
      "acc_class/epoch/shower {'train': 96.09170370437973, 'valid': 92.19440250639252}\n",
      "time/epoch {'train': 871.4039659500122, 'valid': 137.38686728477478}\n"
     ]
    },
    {
     "name": "stderr",
     "output_type": "stream",
     "text": [
      "\r",
      "  0%|          | 0/752 [00:00<?, ?it/s]"
     ]
    },
    {
     "name": "stdout",
     "output_type": "stream",
     "text": [
      "[[941328  44721]\n",
      " [ 46941 528214]]\n"
     ]
    },
    {
     "name": "stderr",
     "output_type": "stream",
     "text": [
      "/usr/local/lib64/python3.6/site-packages/MinkowskiEngine-0.5.2-py3.6-linux-x86_64.egg/MinkowskiEngine/MinkowskiSparseTensor.py:288: UserWarning: coordinates implicitly converted to torch.IntTensor. To remove this warning, use `.int()` to convert the coords into an torch.IntTensor\n",
      "  + \"coords into an torch.IntTensor\"\n",
      "loss = 0.15025: 100%|██████████| 752/752 [19:06<00:00,  1.52s/it]\n",
      "100%|██████████| 251/251 [05:09<00:00,  1.23s/it]\n"
     ]
    },
    {
     "name": "stdout",
     "output_type": "stream",
     "text": [
      "acc/epoch {'train': 96.29762878378561, 'valid': 94.29280222187491}\n",
      "acc_class/epoch/track {'train': 96.39048833500603, 'valid': 95.43757823021869}\n",
      "acc_class/epoch/shower {'train': 96.14315342283227, 'valid': 92.3181512737047}\n",
      "time/epoch {'train': 1146.4794132709503, 'valid': 309.45304322242737}\n"
     ]
    },
    {
     "name": "stderr",
     "output_type": "stream",
     "text": [
      "\r",
      "  0%|          | 0/752 [00:00<?, ?it/s]"
     ]
    },
    {
     "name": "stdout",
     "output_type": "stream",
     "text": [
      "[[943180  44012]\n",
      " [ 45089 528923]]\n"
     ]
    },
    {
     "name": "stderr",
     "output_type": "stream",
     "text": [
      "/usr/local/lib64/python3.6/site-packages/MinkowskiEngine-0.5.2-py3.6-linux-x86_64.egg/MinkowskiEngine/MinkowskiSparseTensor.py:288: UserWarning: coordinates implicitly converted to torch.IntTensor. To remove this warning, use `.int()` to convert the coords into an torch.IntTensor\n",
      "  + \"coords into an torch.IntTensor\"\n",
      "loss = 0.17288: 100%|██████████| 752/752 [18:45<00:00,  1.50s/it]\n",
      "100%|██████████| 251/251 [02:26<00:00,  1.72it/s]\n"
     ]
    },
    {
     "name": "stdout",
     "output_type": "stream",
     "text": [
      "acc/epoch {'train': 96.2881205337726, 'valid': 93.11172659050322}\n",
      "acc_class/epoch/track {'train': 96.3970030801029, 'valid': 93.9526586384881}\n",
      "acc_class/epoch/shower {'train': 96.10699031695765, 'valid': 91.66118320577378}\n",
      "time/epoch {'train': 1125.8567576408386, 'valid': 146.21009707450867}\n"
     ]
    },
    {
     "name": "stderr",
     "output_type": "stream",
     "text": [
      "\r",
      "  0%|          | 0/752 [00:00<?, ?it/s]"
     ]
    },
    {
     "name": "stdout",
     "output_type": "stream",
     "text": [
      "[[928505  47776]\n",
      " [ 59764 525159]]\n"
     ]
    },
    {
     "name": "stderr",
     "output_type": "stream",
     "text": [
      "/usr/local/lib64/python3.6/site-packages/MinkowskiEngine-0.5.2-py3.6-linux-x86_64.egg/MinkowskiEngine/MinkowskiSparseTensor.py:288: UserWarning: coordinates implicitly converted to torch.IntTensor. To remove this warning, use `.int()` to convert the coords into an torch.IntTensor\n",
      "  + \"coords into an torch.IntTensor\"\n",
      "loss = 0.14594: 100%|██████████| 752/752 [11:55<00:00,  1.05it/s]\n",
      "100%|██████████| 251/251 [01:32<00:00,  2.73it/s]\n"
     ]
    },
    {
     "name": "stdout",
     "output_type": "stream",
     "text": [
      "acc/epoch {'train': 96.39191892974796, 'valid': 94.11505479104588}\n",
      "acc_class/epoch/track {'train': 96.48244910526834, 'valid': 95.69894431576827}\n",
      "acc_class/epoch/shower {'train': 96.24131857300613, 'valid': 91.38296665415798}\n",
      "time/epoch {'train': 715.8261830806732, 'valid': 92.025714635849}\n"
     ]
    },
    {
     "name": "stderr",
     "output_type": "stream",
     "text": [
      "\r",
      "  0%|          | 0/752 [00:00<?, ?it/s]"
     ]
    },
    {
     "name": "stdout",
     "output_type": "stream",
     "text": [
      "[[945763  49370]\n",
      " [ 42506 523565]]\n"
     ]
    },
    {
     "name": "stderr",
     "output_type": "stream",
     "text": [
      "/usr/local/lib64/python3.6/site-packages/MinkowskiEngine-0.5.2-py3.6-linux-x86_64.egg/MinkowskiEngine/MinkowskiSparseTensor.py:288: UserWarning: coordinates implicitly converted to torch.IntTensor. To remove this warning, use `.int()` to convert the coords into an torch.IntTensor\n",
      "  + \"coords into an torch.IntTensor\"\n",
      "loss = 0.16685: 100%|██████████| 752/752 [10:42<00:00,  1.17it/s]\n",
      "100%|██████████| 251/251 [01:32<00:00,  2.71it/s]\n"
     ]
    },
    {
     "name": "stdout",
     "output_type": "stream",
     "text": [
      "acc/epoch {'train': 96.39860040273007, 'valid': 93.95472981109451}\n",
      "acc_class/epoch/track {'train': 96.49071254510176, 'valid': 95.9023302359985}\n",
      "acc_class/epoch/shower {'train': 96.24536838454729, 'valid': 90.5952682241441}\n",
      "time/epoch {'train': 642.0586869716644, 'valid': 92.66347932815552}\n"
     ]
    },
    {
     "name": "stderr",
     "output_type": "stream",
     "text": [
      "\r",
      "  0%|          | 0/752 [00:00<?, ?it/s]"
     ]
    },
    {
     "name": "stdout",
     "output_type": "stream",
     "text": [
      "[[947773  53883]\n",
      " [ 40496 519052]]\n"
     ]
    },
    {
     "name": "stderr",
     "output_type": "stream",
     "text": [
      "/usr/local/lib64/python3.6/site-packages/MinkowskiEngine-0.5.2-py3.6-linux-x86_64.egg/MinkowskiEngine/MinkowskiSparseTensor.py:288: UserWarning: coordinates implicitly converted to torch.IntTensor. To remove this warning, use `.int()` to convert the coords into an torch.IntTensor\n",
      "  + \"coords into an torch.IntTensor\"\n",
      "loss = 0.11645: 100%|██████████| 752/752 [10:38<00:00,  1.18it/s]\n",
      "100%|██████████| 251/251 [01:30<00:00,  2.78it/s]\n"
     ]
    },
    {
     "name": "stdout",
     "output_type": "stream",
     "text": [
      "acc/epoch {'train': 96.51758201775773, 'valid': 93.93512955385715}\n",
      "acc_class/epoch/track {'train': 96.58949665364975, 'valid': 94.50453267278444}\n",
      "acc_class/epoch/shower {'train': 96.3979493123306, 'valid': 92.95295277823837}\n",
      "time/epoch {'train': 638.4565515518188, 'valid': 90.25620818138123}\n"
     ]
    },
    {
     "name": "stderr",
     "output_type": "stream",
     "text": [
      "\r",
      "  0%|          | 0/752 [00:00<?, ?it/s]"
     ]
    },
    {
     "name": "stdout",
     "output_type": "stream",
     "text": [
      "[[933959  40375]\n",
      " [ 54310 532560]]\n"
     ]
    },
    {
     "name": "stderr",
     "output_type": "stream",
     "text": [
      "/usr/local/lib64/python3.6/site-packages/MinkowskiEngine-0.5.2-py3.6-linux-x86_64.egg/MinkowskiEngine/MinkowskiSparseTensor.py:288: UserWarning: coordinates implicitly converted to torch.IntTensor. To remove this warning, use `.int()` to convert the coords into an torch.IntTensor\n",
      "  + \"coords into an torch.IntTensor\"\n",
      "loss = 0.10922: 100%|██████████| 752/752 [10:42<00:00,  1.17it/s]\n",
      "100%|██████████| 251/251 [01:36<00:00,  2.59it/s]\n"
     ]
    },
    {
     "name": "stdout",
     "output_type": "stream",
     "text": [
      "acc/epoch {'train': 96.54976872895041, 'valid': 94.24629965078235}\n",
      "acc_class/epoch/track {'train': 96.61994451494465, 'valid': 96.20842098659374}\n",
      "acc_class/epoch/shower {'train': 96.43302866582096, 'valid': 90.86179060451883}\n",
      "time/epoch {'train': 642.9946506023407, 'valid': 96.84439206123352}\n"
     ]
    },
    {
     "name": "stderr",
     "output_type": "stream",
     "text": [
      "\r",
      "  0%|          | 0/752 [00:00<?, ?it/s]"
     ]
    },
    {
     "name": "stdout",
     "output_type": "stream",
     "text": [
      "[[950798  52356]\n",
      " [ 37471 520579]]\n"
     ]
    },
    {
     "name": "stderr",
     "output_type": "stream",
     "text": [
      "/usr/local/lib64/python3.6/site-packages/MinkowskiEngine-0.5.2-py3.6-linux-x86_64.egg/MinkowskiEngine/MinkowskiSparseTensor.py:288: UserWarning: coordinates implicitly converted to torch.IntTensor. To remove this warning, use `.int()` to convert the coords into an torch.IntTensor\n",
      "  + \"coords into an torch.IntTensor\"\n",
      "loss = 0.11394: 100%|██████████| 752/752 [10:44<00:00,  1.17it/s]\n",
      "100%|██████████| 251/251 [01:30<00:00,  2.78it/s]\n"
     ]
    },
    {
     "name": "stdout",
     "output_type": "stream",
     "text": [
      "acc/epoch {'train': 96.47550158695691, 'valid': 93.88676944204602}\n",
      "acc_class/epoch/track {'train': 96.56062604643093, 'valid': 95.02979451950836}\n",
      "acc_class/epoch/shower {'train': 96.3338938424612, 'valid': 91.9151387155611}\n",
      "time/epoch {'train': 644.6622936725616, 'valid': 90.16893649101257}\n",
      "[[939150  46321]\n",
      " [ 49119 526614]]\n"
     ]
    },
    {
     "data": {
      "text/plain": [
       "{'epoch': [0,\n",
       "  1,\n",
       "  2,\n",
       "  3,\n",
       "  4,\n",
       "  5,\n",
       "  6,\n",
       "  7,\n",
       "  8,\n",
       "  9,\n",
       "  10,\n",
       "  11,\n",
       "  12,\n",
       "  13,\n",
       "  14,\n",
       "  15,\n",
       "  16,\n",
       "  17,\n",
       "  18,\n",
       "  19,\n",
       "  20,\n",
       "  21,\n",
       "  22,\n",
       "  23,\n",
       "  24,\n",
       "  25,\n",
       "  26,\n",
       "  27,\n",
       "  28,\n",
       "  29],\n",
       " 'lr': [0.1,\n",
       "  0.1,\n",
       "  0.1,\n",
       "  0.1,\n",
       "  0.1,\n",
       "  0.1,\n",
       "  0.1,\n",
       "  0.1,\n",
       "  0.1,\n",
       "  0.1,\n",
       "  0.1,\n",
       "  0.1,\n",
       "  0.1,\n",
       "  0.1,\n",
       "  0.1,\n",
       "  0.1,\n",
       "  0.1,\n",
       "  0.1,\n",
       "  0.1,\n",
       "  0.1,\n",
       "  0.1,\n",
       "  0.1,\n",
       "  0.1,\n",
       "  0.1,\n",
       "  0.1,\n",
       "  0.1,\n",
       "  0.1,\n",
       "  0.1,\n",
       "  0.1,\n",
       "  0.1],\n",
       " 'train_time': [1497.5195684432983,\n",
       "  1454.53582239151,\n",
       "  1304.795478105545,\n",
       "  1154.4667110443115,\n",
       "  1102.3687596321106,\n",
       "  1103.8568894863129,\n",
       "  1112.2233304977417,\n",
       "  867.8346235752106,\n",
       "  621.8738601207733,\n",
       "  620.86230301857,\n",
       "  608.9378273487091,\n",
       "  610.4895186424255,\n",
       "  618.4660513401031,\n",
       "  616.4182307720184,\n",
       "  619.3359639644623,\n",
       "  637.3534896373749,\n",
       "  621.3266496658325,\n",
       "  617.5429074764252,\n",
       "  614.4940659999847,\n",
       "  612.8371181488037,\n",
       "  615.848997592926,\n",
       "  685.7720775604248,\n",
       "  871.405766248703,\n",
       "  1146.4812502861023,\n",
       "  1125.858561515808,\n",
       "  715.8278558254242,\n",
       "  642.0602223873138,\n",
       "  638.4583523273468,\n",
       "  642.9964351654053,\n",
       "  644.6638691425323],\n",
       " 'train_loss': [0.24901884015491035,\n",
       "  0.19146031166050345,\n",
       "  0.17376773792536968,\n",
       "  0.16578388574751132,\n",
       "  0.1591198722475228,\n",
       "  0.15484140182231018,\n",
       "  0.1485560376722207,\n",
       "  0.14404220812696408,\n",
       "  0.1407735493935724,\n",
       "  0.13566187307476363,\n",
       "  0.13482382402636428,\n",
       "  0.13047655290389,\n",
       "  0.12763711307296885,\n",
       "  0.12328715864172642,\n",
       "  0.12217413270945086,\n",
       "  0.12054343751453339,\n",
       "  0.11870302311937383,\n",
       "  0.11780639254844728,\n",
       "  0.11720468698346868,\n",
       "  0.11550868375900578,\n",
       "  0.11286284794357229,\n",
       "  0.11229161737348012,\n",
       "  0.10999970934155615,\n",
       "  0.1099333567445741,\n",
       "  0.10984689421317678,\n",
       "  0.10785985376408443,\n",
       "  0.10745503288753172,\n",
       "  0.10382663971803924,\n",
       "  0.1031135675408184,\n",
       "  0.10525953958425274],\n",
       " 'valid_time': [374.4070420265198,\n",
       "  351.0101840496063,\n",
       "  260.4178912639618,\n",
       "  258.79946851730347,\n",
       "  261.3446261882782,\n",
       "  275.8891716003418,\n",
       "  234.9202709197998,\n",
       "  85.20386958122253,\n",
       "  86.68183994293213,\n",
       "  85.16676712036133,\n",
       "  85.33412671089172,\n",
       "  84.98039293289185,\n",
       "  86.45316934585571,\n",
       "  84.33989381790161,\n",
       "  94.8644347190857,\n",
       "  83.34987282752991,\n",
       "  85.0169370174408,\n",
       "  83.84655165672302,\n",
       "  83.75843286514282,\n",
       "  83.18260836601257,\n",
       "  83.81214022636414,\n",
       "  252.77267503738403,\n",
       "  137.38637447357178,\n",
       "  309.4523456096649,\n",
       "  146.20948600769043,\n",
       "  92.025310754776,\n",
       "  92.66318678855896,\n",
       "  90.2556312084198,\n",
       "  96.84380555152893,\n",
       "  90.16855883598328],\n",
       " 'valid_loss': [0.19460922957535284,\n",
       "  0.1725591293191055,\n",
       "  0.1692494239168338,\n",
       "  0.16805570777431428,\n",
       "  0.20138697483506335,\n",
       "  0.1692426233177641,\n",
       "  0.16476519913431184,\n",
       "  0.17255811995837794,\n",
       "  0.1601261574314885,\n",
       "  0.1715639802623555,\n",
       "  0.1666258051100955,\n",
       "  0.1715537127686212,\n",
       "  0.17427467913979078,\n",
       "  0.16742644764750128,\n",
       "  0.1708409975308821,\n",
       "  0.19172647580563784,\n",
       "  0.17548032930172772,\n",
       "  0.1711705305958649,\n",
       "  0.1775501267724778,\n",
       "  0.17786806026302962,\n",
       "  0.1780571702170182,\n",
       "  0.17579263715867502,\n",
       "  0.17797998650615435,\n",
       "  0.1736193492830512,\n",
       "  0.1997467777821647,\n",
       "  0.18323877608158673,\n",
       "  0.19489709344280667,\n",
       "  0.1850706312464053,\n",
       "  0.18717745032562202,\n",
       "  0.19144814630666102]}"
      ]
     },
     "execution_count": 11,
     "metadata": {},
     "output_type": "execute_result"
    }
   ],
   "source": [
    "# train\n",
    "trainer.train(train_data_loader=train_loader, valid_data_loader=valid_loader, n_epochs=30)"
   ]
  },
  {
   "cell_type": "code",
   "execution_count": 12,
   "metadata": {},
   "outputs": [
    {
     "name": "stderr",
     "output_type": "stream",
     "text": [
      "  0%|          | 0/251 [00:00<?, ?it/s]/usr/local/lib64/python3.6/site-packages/MinkowskiEngine-0.5.2-py3.6-linux-x86_64.egg/MinkowskiEngine/MinkowskiSparseTensor.py:288: UserWarning: coordinates implicitly converted to torch.IntTensor. To remove this warning, use `.int()` to convert the coords into an torch.IntTensor\n",
      "  + \"coords into an torch.IntTensor\"\n",
      "100%|██████████| 251/251 [04:18<00:00,  1.03s/it]\n"
     ]
    }
   ],
   "source": [
    "# test\n",
    "summary, true_pid, pred_pid = trainer.evaluate(data_loader=test_loader)"
   ]
  },
  {
   "cell_type": "code",
   "execution_count": 13,
   "metadata": {},
   "outputs": [
    {
     "name": "stdout",
     "output_type": "stream",
     "text": [
      "              precision    recall  f1-score   support\n",
      "\n",
      "       track      0.956     0.953     0.955   1046808\n",
      "      shower      0.915     0.921     0.918    577258\n",
      "\n",
      "    accuracy                          0.941   1624066\n",
      "   macro avg      0.936     0.937     0.936   1624066\n",
      "weighted avg      0.942     0.941     0.942   1624066\n",
      "\n",
      "[[997503  45707]\n",
      " [ 49305 531551]]\n"
     ]
    }
   ],
   "source": [
    "# results on test\n",
    "#target_names = [\"track\",\"heavy_track\", \"shower\"]\n",
    "target_names = [\"track\", \"shower\"]\n",
    "print(classification_report(true_pid, pred_pid, digits=3, target_names=target_names))\n",
    "print(confusion_matrix(pred_pid, true_pid))"
   ]
  },
  {
   "cell_type": "code",
   "execution_count": null,
   "metadata": {},
   "outputs": [],
   "source": []
  }
 ],
 "metadata": {
  "kernelspec": {
   "display_name": "Python 3 (ipykernel)",
   "language": "python",
   "name": "python3"
  },
  "language_info": {
   "codemirror_mode": {
    "name": "ipython",
    "version": 3
   },
   "file_extension": ".py",
   "mimetype": "text/x-python",
   "name": "python",
   "nbconvert_exporter": "python",
   "pygments_lexer": "ipython3",
   "version": "3.8.2"
  }
 },
 "nbformat": 4,
 "nbformat_minor": 4
}
